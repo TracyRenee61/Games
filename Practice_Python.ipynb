{
  "nbformat": 4,
  "nbformat_minor": 0,
  "metadata": {
    "colab": {
      "name": "Practice Python.ipynb",
      "provenance": [],
      "collapsed_sections": []
    },
    "kernelspec": {
      "name": "python3",
      "display_name": "Python 3"
    }
  },
  "cells": [
    {
      "cell_type": "markdown",
      "metadata": {
        "id": "53N_AhWja22b"
      },
      "source": [
        "main website:- http://www.practicepython.org/"
      ]
    },
    {
      "cell_type": "markdown",
      "metadata": {
        "id": "Cno75BunWk54"
      },
      "source": [
        "1. Create a program that asks the user to enter their name and their age. Print out a message addressed to them that tells them the year that they will turn 100 years old.\n",
        "\n",
        "website:- http://www.practicepython.org/exercise/2014/01/29/01-character-input.html"
      ]
    },
    {
      "cell_type": "code",
      "metadata": {
        "colab": {
          "base_uri": "https://localhost:8080/"
        },
        "id": "HmXzDznCWc9g",
        "outputId": "a483ffc5-edcd-4004-f7a9-56b14e353d87"
      },
      "source": [
        "name = input(\"What is your name? \")\n",
        "age = input (\"what is your age? \")\n",
        "age = int(age)\n",
        "hundred = 100 - age\n",
        "print(\"Hi \", name, \", you will be 100 in \", hundred, \" years.\")"
      ],
      "execution_count": null,
      "outputs": [
        {
          "output_type": "stream",
          "text": [
            "What is your name? Tracy Porter\n",
            "what is your age? 60\n",
            "Hi  Tracy Porter , you will be 100 in  40  years.\n"
          ],
          "name": "stdout"
        }
      ]
    },
    {
      "cell_type": "markdown",
      "metadata": {
        "id": "f-Oj8zV9YzYX"
      },
      "source": [
        "2. Ask the user for a number. Depending on whether the number is even or odd, print out an appropriate message to the user. Hint: how does an even / odd number react differently when divided by 2?\n",
        "\n",
        "website:- http://www.practicepython.org/exercise/2014/02/05/02-odd-or-even.html\n"
      ]
    },
    {
      "cell_type": "markdown",
      "metadata": {
        "id": "FDnD9lTZeSr6"
      },
      "source": [
        "Example of error handling"
      ]
    },
    {
      "cell_type": "code",
      "metadata": {
        "colab": {
          "base_uri": "https://localhost:8080/"
        },
        "id": "SnHrzaNAekDy",
        "outputId": "de8b9426-cbaf-4811-8283-c53b72cb6b38"
      },
      "source": [
        "num = 'y'\n",
        "\n",
        "while num == 'y':\n",
        "\n",
        "  try:\n",
        "    number = int(input(\"Enter any number \"))\n",
        "    if number % 2 == 0:\n",
        "      print(\"The number you entered is even.\")\n",
        "    elif number % 2 == 1:\n",
        "      print(\"The number you printed is odd.\")\n",
        "    num = input(\"Do you want to know whether another number is even or odd? <y or n> \").lower()\n",
        "\n",
        "  except:\n",
        "    print(\"\\nThat is not a valid number!\")\n",
        "    num = input(\"Do you want to know whether another number is even or odd? <y or n> \").lower()\n"
      ],
      "execution_count": 2,
      "outputs": [
        {
          "output_type": "stream",
          "text": [
            "Enter any number 8\n",
            "The number you entered is even.\n",
            "Do you want to know whether another number is even or odd? <y or n> y\n",
            "Enter any number eight\n",
            "\n",
            "That is not a valid number!\n",
            "Do you want to know whether another number is even or odd? <y or n> y\n",
            "Enter any number 5\n",
            "The number you printed is odd.\n",
            "Do you want to know whether another number is even or odd? <y or n> n\n"
          ],
          "name": "stdout"
        }
      ]
    },
    {
      "cell_type": "code",
      "metadata": {
        "colab": {
          "base_uri": "https://localhost:8080/"
        },
        "id": "TrKBphK_Y_M_",
        "outputId": "3497b02f-3616-4f29-86ab-7abe7b8080db"
      },
      "source": [
        "number = input(\"Enter any number \")\n",
        "number = int(number)\n",
        "if number % 2 == 0:\n",
        "  print(\"The number you entered is even.\")\n",
        "else:\n",
        "  print(\"The number you printed is odd.\")"
      ],
      "execution_count": null,
      "outputs": [
        {
          "output_type": "stream",
          "text": [
            "Enter any number 22\n",
            "The number you entered is even.\n"
          ],
          "name": "stdout"
        }
      ]
    },
    {
      "cell_type": "markdown",
      "metadata": {
        "id": "53NsUp_kaaml"
      },
      "source": [
        "3. Take a list, say for example this one:\n",
        "\n",
        "  a = [1, 1, 2, 3, 5, 8, 13, 21, 34, 55, 89]\n",
        "and write a program that prints out all the elements of the list that are less than 5.\n",
        "\n",
        "website:- http://www.practicepython.org/exercise/2014/02/15/03-list-less-than-ten.html"
      ]
    },
    {
      "cell_type": "code",
      "metadata": {
        "colab": {
          "base_uri": "https://localhost:8080/"
        },
        "id": "AxJirsoYbeX3",
        "outputId": "64b80d2c-665c-46f8-b5c6-1905b368c180"
      },
      "source": [
        "lst = [1, 2, 3, 4, 5, 6, 7, 8, 9, 10]\n",
        "less_five = []\n",
        "for x in range(len(lst)):\n",
        "  if lst[x] < 5:\n",
        "    less_five.append(lst[x])\n",
        "  x = x + 1\n",
        "print(less_five)"
      ],
      "execution_count": null,
      "outputs": [
        {
          "output_type": "stream",
          "text": [
            "[1, 2, 3, 4]\n"
          ],
          "name": "stdout"
        }
      ]
    },
    {
      "cell_type": "markdown",
      "metadata": {
        "id": "sSUAMl9QcxrD"
      },
      "source": [
        "4. Create a program that asks the user for a number and then prints out a list of all the divisors of that number. (If you don’t know what a divisor is, it is a number that divides evenly into another number. For example, 13 is a divisor of 26 because 26 / 13 has no remainder.)\n",
        "\n",
        "website:- http://www.practicepython.org/exercise/2014/02/26/04-divisors.html"
      ]
    },
    {
      "cell_type": "code",
      "metadata": {
        "id": "SXneo01QdUjV",
        "colab": {
          "base_uri": "https://localhost:8080/"
        },
        "outputId": "2ef7d6af-0543-425c-f630-4365b2b35468"
      },
      "source": [
        "number = input(\"Please enter a number that you would like the divisors for: \")\n",
        "number = int(number)\n",
        "\n",
        "lst = range(2,number)\n",
        "lst_div = []\n",
        "\n",
        "for x in range(len(lst)):\n",
        "  if number % lst[x] == 0:\n",
        "    lst_div.append(lst[x])\n",
        "  x = x + 1\n",
        "print(lst_div)"
      ],
      "execution_count": null,
      "outputs": [
        {
          "output_type": "stream",
          "text": [
            "Please enter a number that you would like the divisors for: 26\n",
            "[2, 13]\n"
          ],
          "name": "stdout"
        }
      ]
    },
    {
      "cell_type": "markdown",
      "metadata": {
        "id": "E7N91gUgp2zs"
      },
      "source": [
        "5. Take two lists, say for example these two:\n",
        "\n",
        "  a = [1, 1, 2, 3, 5, 8, 13, 21, 34, 55, 89]\n",
        "  b = [1, 2, 3, 4, 5, 6, 7, 8, 9, 10, 11, 12, 13]\n",
        "and write a program that returns a list that contains only the elements that are common between the lists (without duplicates). Make sure your program works on two lists of different sizes. \n",
        "\n",
        "website:- http://www.practicepython.org/exercise/2014/03/05/05-list-overlap.html"
      ]
    },
    {
      "cell_type": "code",
      "metadata": {
        "colab": {
          "base_uri": "https://localhost:8080/"
        },
        "id": "g4E4fBpuqPbw",
        "outputId": "c41c4715-f70f-4bb4-cd9b-0903eff4923d"
      },
      "source": [
        "a_string =  [1, 1, 2, 3, 5, 8, 13, 21, 34, 55, 89]\n",
        "b_string =  [1, 2, 3, 4, 5, 6, 7, 8, 9, 10, 11, 12, 13]\n",
        "\n",
        "a_list = [] \n",
        "for i in a_string: \n",
        "    if i not in a_list: \n",
        "        a_list.append(i)\n",
        "print(\"a_list is: \", a_list)\n",
        "\n",
        "b_list = [] \n",
        "for i in b_string: \n",
        "    if i not in b_list: \n",
        "        b_list.append(i)\n",
        "print(\"b_list is: \", b_list)\n",
        "\n",
        "c_list = [] \n",
        "for i in b_list: \n",
        "    if i in a_list: \n",
        "        c_list.append(i)\n",
        "print(\"combined_list is: \", c_list)\n",
        "\n"
      ],
      "execution_count": null,
      "outputs": [
        {
          "output_type": "stream",
          "text": [
            "a_list is:  [1, 2, 3, 5, 8, 13, 21, 34, 55, 89]\n",
            "b_list is:  [1, 2, 3, 4, 5, 6, 7, 8, 9, 10, 11, 12, 13]\n",
            "combined_list is:  [1, 2, 3, 5, 8, 13]\n"
          ],
          "name": "stdout"
        }
      ]
    },
    {
      "cell_type": "markdown",
      "metadata": {
        "id": "Ctv2WWklBglm"
      },
      "source": [
        "6. Ask the user for a string and print out whether this string is a palindrome or not. (A palindrome is a string that reads the same forwards and backwards.)\n",
        "\n",
        "website:- http://www.practicepython.org/exercise/2014/03/12/06-string-lists.html"
      ]
    },
    {
      "cell_type": "code",
      "metadata": {
        "colab": {
          "base_uri": "https://localhost:8080/"
        },
        "id": "FhOG09OUBxDe",
        "outputId": "3a2fdc79-2160-417c-a115-4a46d411c851"
      },
      "source": [
        "string = input(\"Enter a string of text here: \")\n",
        "bk_string = string[::-1]\n",
        "\n",
        "if string == bk_string:\n",
        "  print(\"Your string is a palidrome. \", string, \" backwards is \", bk_string, \".\")\n",
        "else:\n",
        "  print(\"Your string is not a palidrome. \", string, \" backwards is \", bk_string, \".\")"
      ],
      "execution_count": null,
      "outputs": [
        {
          "output_type": "stream",
          "text": [
            "Enter a string of text here: adam\n",
            "Your string is not a palidrome.  adam  backwards is  mada .\n"
          ],
          "name": "stdout"
        }
      ]
    },
    {
      "cell_type": "markdown",
      "metadata": {
        "id": "WVL-xZ8LpkHq"
      },
      "source": [
        "7. Let’s say I give you a list saved in a variable: a = [1, 4, 9, 16, 25, 36, 49, 64, 81, 100]. Write one line of Python that takes this list a and makes a new list that has only the even elements of this list in it.\n",
        "\n",
        "website:- http://www.practicepython.org/exercise/2014/03/19/07-list-comprehensions.html"
      ]
    },
    {
      "cell_type": "code",
      "metadata": {
        "colab": {
          "base_uri": "https://localhost:8080/"
        },
        "id": "YLxeNzxsxMpY",
        "outputId": "ebaec135-7d5d-440e-9759-a3912ec0164a"
      },
      "source": [
        "a_list =  [1, 4, 9, 16, 25, 36, 49, 64, 81, 100]\n",
        "b_list = []\n",
        "\n",
        "for x in a_list:\n",
        "  if x % 2 == 0:\n",
        "    b_list.append(x)\n",
        "print(\"Even numbers in a_list are: \", b_list)"
      ],
      "execution_count": null,
      "outputs": [
        {
          "output_type": "stream",
          "text": [
            "Even numbers in a_list are:  [4, 16, 36, 64, 100]\n"
          ],
          "name": "stdout"
        }
      ]
    },
    {
      "cell_type": "markdown",
      "metadata": {
        "id": "iVAZSJKFzRyz"
      },
      "source": [
        "8. Make a two-player Rock-Paper-Scissors game. (Hint: Ask for player plays (using input), compare them, print out a message of congratulations to the winner, and ask if the players want to start a new game)\n",
        "\n",
        "Remember the rules:\n",
        "\n",
        "Rock beats scissors\n",
        "\n",
        "Scissors beats paper\n",
        "\n",
        "Paper beats rock\n",
        "\n",
        "website:- http://www.practicepython.org/exercise/2014/03/26/08-rock-paper-scissors.html"
      ]
    },
    {
      "cell_type": "code",
      "metadata": {
        "colab": {
          "base_uri": "https://localhost:8080/"
        },
        "id": "DENaZglO0jU_",
        "outputId": "426f4960-ee0c-45b7-c8b4-cb394dc44389"
      },
      "source": [
        " game = 'y'\n",
        " winner = []\n",
        "\n",
        " while game == 'y':\n",
        "   \n",
        "   win = 0\n",
        "   \n",
        "   play1 = input(\"Enter ROCK / SCISSORS / PAPER: \")\n",
        "   play1 = play1.upper()\n",
        "   print(\"Play1 entered \", play1, \".\")\n",
        "   if play1 == 'ROCK':\n",
        "     play1 = 1\n",
        "   elif play1 == 'SCISSORS':\n",
        "      play1 = 2\n",
        "   elif play1 == 'PAPER':\n",
        "      play1 = 3\n",
        "   else:\n",
        "      play1 = 0\n",
        "\n",
        "   play2 = input(\"Enter ROCK / SCISSORS / PAPER: \")\n",
        "   play2 = play2.upper()\n",
        "   print(\"Play2 entered \", play2, \".\")\n",
        "   if play2 == 'ROCK':\n",
        "     play2 = 1\n",
        "   elif play2 == 'SCISSORS':\n",
        "      play2 = 2\n",
        "   elif play2 == 'PAPER':\n",
        "      play2 = 3\n",
        "   else:\n",
        "      play2 = 0\n",
        "\n",
        "   if play1 == play2:\n",
        "     win = 0\n",
        "     winner.append(win)\n",
        "     print(\"Nobody won this round.\")\n",
        "   elif play1 == 1 and play2 == 2:\n",
        "     win = 1\n",
        "     winner.append(win)\n",
        "     print(\"Rock crushes scissors. Rock wins\")\n",
        "   elif play1 == 1 and play2 == 3:\n",
        "     win = 2\n",
        "     winner.append(win)\n",
        "     print(\"Paper covers rock. Paper wins\")\n",
        "   elif play1 == 2 and play2 == 1:\n",
        "     win = 2\n",
        "     print(\"Rock crushes scissors. Rock wins\")\n",
        "     winner.append(win)\n",
        "   elif play1 == 2 and play2 == 3:\n",
        "     win = 1\n",
        "     winner.append(win)\n",
        "     print(\"Scissors cut paper. Scissors win.\")\n",
        "   elif play1 == 3 and play2 == 1:\n",
        "     win = 1\n",
        "     winner.append(win)\n",
        "     print(\"Paper covers rock. Paper wins\")\n",
        "   elif play1 == 3 and play2 == 2:\n",
        "     win = 2\n",
        "     winner.append(win)\n",
        "     print(\"Scissors cuts paper. Paper wins\")\n",
        "  \n",
        "   print(\"The winner is: \", win, \".\")\n",
        "   game = input(\"Would you like to play again? <y/n>\")\n",
        "\n",
        "print(winner)\n",
        "\n",
        "count = winner.count(0)\n",
        "print(\"The number of 0's that won are: \", count)\n",
        "\n",
        "count = winner.count(1)\n",
        "print(\"The number of 1's that won are: \", count)\n",
        "\n",
        "count = winner.count(2)\n",
        "print(\"The number of 2's that won are: \", count)\n",
        "\n",
        "\n",
        "\n",
        " \n",
        "\n"
      ],
      "execution_count": null,
      "outputs": [
        {
          "output_type": "stream",
          "text": [
            "Enter ROCK / SCISSORS / PAPER: paper\n",
            "Play1 entered  PAPER .\n",
            "Enter ROCK / SCISSORS / PAPER: rock\n",
            "Play2 entered  ROCK .\n",
            "Paper covers rock. Paper wins\n",
            "The winner is:  1 .\n",
            "Would you like to play again? <y/n>y\n",
            "Enter ROCK / SCISSORS / PAPER: paper\n",
            "Play1 entered  PAPER .\n",
            "Enter ROCK / SCISSORS / PAPER: paper\n",
            "Play2 entered  PAPER .\n",
            "Nobody won this round.\n",
            "The winner is:  0 .\n",
            "Would you like to play again? <y/n>y\n",
            "Enter ROCK / SCISSORS / PAPER: paper\n",
            "Play1 entered  PAPER .\n",
            "Enter ROCK / SCISSORS / PAPER: scissors\n",
            "Play2 entered  SCISSORS .\n",
            "Scissors cuts paper. Paper wins\n",
            "The winner is:  2 .\n",
            "Would you like to play again? <y/n>y\n",
            "Enter ROCK / SCISSORS / PAPER: rock\n",
            "Play1 entered  ROCK .\n",
            "Enter ROCK / SCISSORS / PAPER: scissors\n",
            "Play2 entered  SCISSORS .\n",
            "Rock crushes scissors. Rock wins\n",
            "The winner is:  1 .\n",
            "Would you like to play again? <y/n>y\n",
            "Enter ROCK / SCISSORS / PAPER: rock\n",
            "Play1 entered  ROCK .\n",
            "Enter ROCK / SCISSORS / PAPER: paper\n",
            "Play2 entered  PAPER .\n",
            "Paper covers rock. Paper wins\n",
            "The winner is:  2 .\n",
            "Would you like to play again? <y/n>n\n",
            "[1, 0, 2, 1, 2]\n",
            "The number of 0's that won are:  1\n",
            "The number of 1's that won are:  2\n",
            "The number of 2's that won are:  2\n"
          ],
          "name": "stdout"
        }
      ]
    },
    {
      "cell_type": "markdown",
      "metadata": {
        "id": "SIwrWo4pkDu4"
      },
      "source": [
        "9. Generate a random number between 1 and 9 (including 1 and 9). Ask the user to guess the number, then tell them whether they guessed too low, too high, or exactly right. (Hint: remember to use the user input lessons from the very first exercise)\n",
        "\n",
        "website: http://www.practicepython.org/exercise/2014/04/02/09-guessing-game-one.html"
      ]
    },
    {
      "cell_type": "code",
      "metadata": {
        "colab": {
          "base_uri": "https://localhost:8080/"
        },
        "id": "88_8E-tE9MRf",
        "outputId": "d772e6f4-b7fb-41c4-c0bb-94f4263a7d66"
      },
      "source": [
        "from random import randint\n",
        "\n",
        "play = 'y'\n",
        "win = 0\n",
        "\n",
        "while play == 'y':\n",
        "\n",
        "  rand_num = randint(1,9)\n",
        "\n",
        "  play_num = input(\"Please eneter the number you think the random number generator made: \")\n",
        "  play_num = int(play_num)\n",
        "\n",
        "  if play_num == rand_num:\n",
        "    win = win + 1\n",
        "    print(\"You predicted the correct number.\")\n",
        "  elif play_num > rand_num:\n",
        "    print(\"The number you predicted is higher than the number the random number generator made.\")\n",
        "  else:\n",
        "    print(\"The number you predicted is lower than the number the random number generator made.\")\n",
        "\n",
        "  play = input(\"Would you like to play again? <y/n> \")\n",
        "print(\"You have predicted correctly this many times: \", win, \".\")"
      ],
      "execution_count": null,
      "outputs": [
        {
          "output_type": "stream",
          "text": [
            "Please eneter the number you think the random number generator made: 5\n",
            "The number you predicted is higher than the number the random number generator made.\n",
            "Would you like to play again? <y/n> y\n",
            "Please eneter the number you think the random number generator made: 4\n",
            "The number you predicted is lower than the number the random number generator made.\n",
            "Would you like to play again? <y/n> y\n",
            "Please eneter the number you think the random number generator made: 9\n",
            "The number you predicted is higher than the number the random number generator made.\n",
            "Would you like to play again? <y/n> y\n",
            "Please eneter the number you think the random number generator made: 1\n",
            "The number you predicted is lower than the number the random number generator made.\n",
            "Would you like to play again? <y/n> y\n",
            "Please eneter the number you think the random number generator made: 3\n",
            "The number you predicted is lower than the number the random number generator made.\n",
            "Would you like to play again? <y/n> y\n",
            "Please eneter the number you think the random number generator made: 9\n",
            "The number you predicted is higher than the number the random number generator made.\n",
            "Would you like to play again? <y/n> y\n",
            "Please eneter the number you think the random number generator made: 7\n",
            "The number you predicted is higher than the number the random number generator made.\n",
            "Would you like to play again? <y/n> n\n",
            "You have predicted correctly this many times:  0 .\n"
          ],
          "name": "stdout"
        }
      ]
    },
    {
      "cell_type": "markdown",
      "metadata": {
        "id": "0h3da1d5BU9E"
      },
      "source": [
        "10.Take two lists, say for example these two:\n",
        "\n",
        "\ta = [1, 1, 2, 3, 5, 8, 13, 21, 34, 55, 89]\n",
        "\tb = [1, 2, 3, 4, 5, 6, 7, 8, 9, 10, 11, 12, 13]\n",
        "and write a program that returns a list that contains only the elements that are common between the lists (without duplicates). Make sure your program works on two lists of different sizes. Write this in one line of Python using at least one list comprehension. (Hint: Remember list comprehensions from Exercise 7).\n",
        "\n",
        "website:- http://www.practicepython.org/exercise/2014/04/10/10-list-overlap-comprehensions.html"
      ]
    },
    {
      "cell_type": "code",
      "metadata": {
        "colab": {
          "base_uri": "https://localhost:8080/"
        },
        "id": "9TRwCGqKC2q4",
        "outputId": "2938f3b7-417f-4cdb-f407-7bdf4f1a65a2"
      },
      "source": [
        "a_list = [1, 1, 2, 3, 5, 8, 13, 21, 34, 55, 89]\n",
        "b_list = [1, 2, 3, 4, 5, 6, 7, 8, 9, 10, 11, 12, 13]\n",
        "\n",
        "a_set = set(a_list)\n",
        "b_set = set(b_list)\n",
        "\n",
        "if (a_set & b_set): \n",
        "  print(a_set & b_set) \n",
        "else: \n",
        "  print(\"No common elements\") "
      ],
      "execution_count": null,
      "outputs": [
        {
          "output_type": "stream",
          "text": [
            "{1, 2, 3, 5, 8, 13}\n"
          ],
          "name": "stdout"
        }
      ]
    },
    {
      "cell_type": "markdown",
      "metadata": {
        "id": "I3LbpyD-WBEc"
      },
      "source": [
        "11. Ask the user for a number and determine whether the number is prime or not. (For those who have forgotten, a prime number is a number that has no divisors.). You can (and should!) use your answer to Exercise 4 to help you. \n",
        "\n",
        "website:- http://www.practicepython.org/exercise/2014/04/16/11-check-primality-functions.html"
      ]
    },
    {
      "cell_type": "code",
      "metadata": {
        "colab": {
          "base_uri": "https://localhost:8080/"
        },
        "id": "pB6_jy-iWetd",
        "outputId": "e0ed3c27-e86e-4f9c-8318-787c9d23f826"
      },
      "source": [
        "def get_integer(help_text):\n",
        "    return int(input(help_text))\n",
        "\n",
        "prime = 'y'\n",
        "\n",
        "while prime == 'y':\n",
        "\n",
        "  num = get_integer(\"Please enter a number: \")\n",
        "\n",
        "  if num > 1:\n",
        "   for i in range(2,num):\n",
        "      if (num % i) == 0:\n",
        "        print(num,\"is not a prime number\")\n",
        "        print(i,\"times\",num//i,\"is\",num)\n",
        "        break\n",
        "      else:\n",
        "        print(num,\"is a prime number\")\n",
        "        break\n",
        "  else:\n",
        "    print(num,\"is not a prime number because it is less than zero.\")\n",
        "  \n",
        "  prime = input(\"Would you like to check to see if another number is prime? <y/n\")\n",
        "    \n"
      ],
      "execution_count": null,
      "outputs": [
        {
          "output_type": "stream",
          "text": [
            "Please enter a number: -7\n",
            "-7 is not a prime number because it is less than zero.\n",
            "Would you like to check to see if another number is prime? <y/ny\n",
            "Please enter a number: 3\n",
            "3 is a prime number\n",
            "Would you like to check to see if another number is prime? <y/ny\n",
            "Please enter a number: 4\n",
            "4 is not a prime number\n",
            "2 times 2 is 4\n",
            "Would you like to check to see if another number is prime? <y/ny\n",
            "Please enter a number: 13\n",
            "13 is a prime number\n",
            "Would you like to check to see if another number is prime? <y/nn\n"
          ],
          "name": "stdout"
        }
      ]
    },
    {
      "cell_type": "markdown",
      "metadata": {
        "id": "a2dIwRalRGCm"
      },
      "source": [
        "12. Write a program that takes a list of numbers (for example, a = [5, 10, 15, 20, 25]) and makes a new list of only the first and last elements of the given list. For practice, write this code inside a function.\n",
        "\n",
        "website:- http://www.practicepython.org/exercise/2014/04/25/12-list-ends.html"
      ]
    },
    {
      "cell_type": "code",
      "metadata": {
        "colab": {
          "base_uri": "https://localhost:8080/"
        },
        "id": "Mt5r3Ab2RjXj",
        "outputId": "aeb941fe-ad7b-4a2c-cbd9-efc156d60ba5"
      },
      "source": [
        "def get_new_list(list):\n",
        "  new_list = [lst[0], lst[-1]]\n",
        "  return new_list\n",
        "\n",
        "lst = [5, 10, 15, 20, 25, 30, 35, 40]\n",
        "\n",
        "print(get_new_list(lst))"
      ],
      "execution_count": null,
      "outputs": [
        {
          "output_type": "stream",
          "text": [
            "[5, 40]\n"
          ],
          "name": "stdout"
        }
      ]
    },
    {
      "cell_type": "markdown",
      "metadata": {
        "id": "YoyjUrPzUkjm"
      },
      "source": [
        "13. Write a program that asks the user how many Fibonnaci numbers to generate and then generates them. Take this opportunity to think about how you can use functions. Make sure to ask the user to enter the number of numbers in the sequence to generate.(Hint: The Fibonnaci seqence is a sequence of numbers where the next number in the sequence is the sum of the previous two numbers in the sequence. The sequence looks like this: 1, 1, 2, 3, 5, 8, 13, …)\n",
        "\n",
        "website:- http://www.practicepython.org/exercise/2014/04/30/13-fibonacci.html"
      ]
    },
    {
      "cell_type": "code",
      "metadata": {
        "colab": {
          "base_uri": "https://localhost:8080/"
        },
        "id": "YOn8RyiNVBRT",
        "outputId": "61c0ab0c-760b-4911-b7f0-02e0b2653634"
      },
      "source": [
        "fib_seq = []\n",
        "\n",
        "n = int(input(\"How many numbers do you want in this Fibonnaci sequence?\"))\n",
        "\n",
        "first = 0\n",
        "second = 1\n",
        "sum = 0\n",
        "count = 1\n",
        "print(\"Fibonacci Sequence: \")\n",
        "# Count should not be more then n.\n",
        "while(count <= n):    \n",
        "  fib_seq.append(sum)\n",
        "  count = count + 1\n",
        "  first = second\n",
        "  second = sum\n",
        "  sum = first + second\n",
        "print(fib_seq)"
      ],
      "execution_count": null,
      "outputs": [
        {
          "output_type": "stream",
          "text": [
            "How many numbers do you want in this Fibonnaci sequence?10\n",
            "Fibonacci Sequence: \n",
            "[0, 1, 1, 2, 3, 5, 8, 13, 21, 34]\n"
          ],
          "name": "stdout"
        }
      ]
    },
    {
      "cell_type": "markdown",
      "metadata": {
        "id": "5_eQpOlLJEJA"
      },
      "source": [
        "14. Write a program (function!) that takes a list and returns a new list that contains all the elements of the first list minus all the duplicates.\n",
        "\n",
        "website:- http://www.practicepython.org/exercise/2014/05/15/14-list-remove-duplicates.html"
      ]
    },
    {
      "cell_type": "code",
      "metadata": {
        "colab": {
          "base_uri": "https://localhost:8080/"
        },
        "id": "QgLc_4StJZxL",
        "outputId": "93b45e4c-a3f8-407e-de34-4536ffb5e5c8"
      },
      "source": [
        "def remove_duplicate(list):\n",
        "  lst = [] \n",
        "  for i in num_list: \n",
        "    if i not in lst: \n",
        "        lst.append(i)\n",
        "        i = i + 1\n",
        "  print(\"List with duplicates removed is: \", lst)\n",
        "\n",
        "num_list = [1, 1, 2, 2, 3, 3, 3, 4, 4, 4, 4, 5, 5, 5, 5, 5]\n",
        "\n",
        "remove_duplicate(num_list)"
      ],
      "execution_count": null,
      "outputs": [
        {
          "output_type": "stream",
          "text": [
            "List with duplicates removed is:  [1, 2, 3, 4, 5]\n"
          ],
          "name": "stdout"
        }
      ]
    },
    {
      "cell_type": "markdown",
      "metadata": {
        "id": "KeTPDxERMINO"
      },
      "source": [
        "15. Write a program (using functions!) that asks the user for a long string containing multiple words. Print back to the user the same string, except with the words in backwards order. For example, say I type the string:\n",
        "\n",
        "  My name is Michele\n",
        "Then I would see the string:\n",
        "\n",
        "  Michele is name My\n",
        "shown back to me.\n",
        "\n",
        "website:- http://www.practicepython.org/exercise/2014/05/21/15-reverse-word-order.html"
      ]
    },
    {
      "cell_type": "code",
      "metadata": {
        "colab": {
          "base_uri": "https://localhost:8080/"
        },
        "id": "TiF0S5ToMu3k",
        "outputId": "137bf311-cae0-4106-934a-f78af52fc313"
      },
      "source": [
        "def reverse_stg(stg):\n",
        "  bk_stg = ''\n",
        "  for i in stg:\n",
        "    bk_stg = i + bk_stg\n",
        "  return bk_stg\n",
        "\n",
        "stg = \"My name is Krystal\"\n",
        "print(reverse_stg(stg))\n",
        "\n",
        "def reverse_word(w):\n",
        "  return ' '.join(w.split()[::-1])\n",
        "\n",
        "print(reverse_word(stg))"
      ],
      "execution_count": null,
      "outputs": [
        {
          "output_type": "stream",
          "text": [
            "latsyrK si eman yM\n",
            "Krystal is name My\n"
          ],
          "name": "stdout"
        }
      ]
    },
    {
      "cell_type": "markdown",
      "metadata": {
        "id": "uwbxk_L_kP28"
      },
      "source": [
        "16. Write a password generator in Python. Be creative with how you generate passwords - strong passwords have a mix of lowercase letters, uppercase letters, numbers, and symbols. The passwords should be random, generating a new password every time the user asks for a new password. Include your run-time code in a main method.\n",
        "\n",
        "\n",
        "http://www.practicepython.org/exercise/2014/05/28/16-password-generator.html"
      ]
    },
    {
      "cell_type": "code",
      "metadata": {
        "colab": {
          "base_uri": "https://localhost:8080/"
        },
        "id": "kEp5AJ4H75gP",
        "outputId": "f22726b6-d02c-417d-ee1b-b4e6599520ed"
      },
      "source": [
        "import random\n",
        "\n",
        "chars = \"abcdefghijklmnopqrstuvwABCDEFGHIJKLMNOPQRSTUVWXYZ1234567890!£$%^&*\"\n",
        "\n",
        "query = 'y'\n",
        "\n",
        "while query == 'y':\n",
        "  length = int(input(\"How many characters would you like your password to be? \"))\n",
        "  password = ''\n",
        "  for c in range(length):\n",
        "    password = password + random.choice(chars)\n",
        "  print(password)\n",
        "  query = input(\"Would you like to change your password? <y/n>\")"
      ],
      "execution_count": null,
      "outputs": [
        {
          "output_type": "stream",
          "text": [
            "How many characters would you like your password to be? 7\n",
            "IHWF86O\n",
            "Would you like to change your password? <y/n>y\n",
            "How many characters would you like your password to be? 5\n",
            "W60q4\n",
            "Would you like to change your password? <y/n>y\n",
            "How many characters would you like your password to be? 4\n",
            "liFc\n",
            "Would you like to change your password? <y/n>n\n"
          ],
          "name": "stdout"
        }
      ]
    },
    {
      "cell_type": "markdown",
      "metadata": {
        "id": "SyJAMuH_A2gO"
      },
      "source": [
        "17. Use the BeautifulSoup and requests Python packages to print out a list of all the article titles on the New York Times homepage.\n",
        "\n",
        "website:- http://www.practicepython.org/exercise/2014/06/06/17-decode-a-web-page.html"
      ]
    },
    {
      "cell_type": "code",
      "metadata": {
        "colab": {
          "base_uri": "https://localhost:8080/"
        },
        "id": "hQNVbeyGBPom",
        "outputId": "90657ffa-7ad4-42be-e6f0-f92c44f44654"
      },
      "source": [
        "#this solution taken from:-\n",
        "#https://stackoverflow.com/questions/55033291/scraping-headlines-from-news-website-homepages-using-beautifulsoup-in-python\n",
        "\n",
        "import requests \n",
        "from bs4 import BeautifulSoup\n",
        "import json\n",
        "import datetime\n",
        "\n",
        "headers = {'user-agent': 'Mozilla/5.0 (Windows NT 10.0; Win64; x64) AppleWebKit/537.36 (KHTML, like Gecko) Chrome/85.0.4183.121 Safari/537.36'}\n",
        "\n",
        "url = \"https://www.nytimes.com/\"\n",
        "r = requests.get(url, headers=headers)\n",
        "now = datetime.datetime.now()\n",
        "now = now.strftime('%A, %B %d, %Y  %I:%M %p')\n",
        "\n",
        "r_html = r.text\n",
        "soup = BeautifulSoup(r_html, \"html.parser\")\n",
        "\n",
        "scripts = soup.find_all('script')\n",
        "for script in scripts:\n",
        "    if 'preloadedData' in script.text:\n",
        "        jsonStr = script.text\n",
        "        jsonStr = jsonStr.split('=', 1)[1].strip()\n",
        "        jsonStr = jsonStr.rsplit(';', 1)[0]\n",
        "        jsonObj = json.loads(jsonStr)\n",
        " \n",
        "\n",
        "print ('%s\\nHeadlines\\n%s\\n' %(url, now))\n",
        "count = 1\n",
        "for ele, v in jsonObj['initialState'].items():\n",
        "    try:\n",
        "        if v['headline'] and v['__typename'] == 'PromotionalProperties':\n",
        "            print('Headline %s: %s' %(count, v['headline']))\n",
        "            count += 1\n",
        "    except:\n",
        "        continue\n"
      ],
      "execution_count": null,
      "outputs": [
        {
          "output_type": "stream",
          "text": [
            "https://www.nytimes.com/\n",
            "Headlines\n",
            "Sunday, February 21, 2021  08:26 AM\n",
            "\n",
            "Headline 1: Texas Blackouts Point to Coast-to-Coast Crises Waiting to Happen\n",
            "Headline 2: His Lights Stayed on During Texas’ Storm. Now He Owes $16,752.\n",
            "Headline 3: A Houston furniture store opened its doors as a refuge. Thousands came for help.\n",
            "Headline 4: When There’s No Heat: ‘You Need Wood, You Get Wood’\n",
            "Headline 5: Germany, Once a Model, Is Swamped Like Everyone Else by Pandemic’s Second Wave\n",
            "Headline 6: Israel Secretly Agrees to Fund Vaccines for Syria as Part of Prisoner Swap\n",
            "Headline 7: Germany, Once a Model, Is Swamped by Pandemic’s Second Wave\n",
            "Headline 8: New York City Is Down to Fewer Than 1,000 Vaccine Doses\n",
            "Headline 9: Israel Secretly Agrees to Fund Vaccines for Syria as Part of Prisoner Swap\n",
            "Headline 10: Interest Surges in Top Colleges, While Struggling Ones Scrape for Applicants\n",
            "Headline 11: Interest Surges in Top Colleges, While Struggling Ones Scrape for Applicants\n",
            "Headline 12: Garland Says as Attorney General He Will Combat Domestic Extremism\n",
            "Headline 13: Justice Dept. Is Said to Be Examining Stone’s Possible Ties to Capitol Rioters\n",
            "Headline 14: Trump Schedules Address Before CPAC Next Sunday\n",
            "Headline 15: Garland Says as Attorney General He Will Combat Domestic Extremism\n",
            "Headline 16: Justice Dept. Is Said to Be Examining Stone’s Ties to Capitol Rioters\n",
            "Headline 17: Trump Schedules Address Before CPAC Next Sunday\n",
            "Headline 18: Venezuelan Women Lose Access to Contraception, and Control of Their Lives\n",
            "Headline 19: With Birth Control Scarce, Venezuelan Women Are ‘Drowning’\n",
            "Headline 20: The Boredom Economy\n",
            "Headline 21: The Boredom Economy\n",
            "Headline 22: The Weekender\n",
            "Headline 23: The New York Times News Quiz, Feb. 19, 2021\n",
            "Headline 24: The Weekender: The First Cloned Black-Footed Ferret\n",
            "Headline 25: The New York Times News Quiz, Feb. 19, 2021\n",
            "Headline 26: The Daily: Pandemic Stories\n",
            "Headline 27: Listen to ‘The Daily’\n",
            "Headline 28: Best of the Archives: Whiteness in America\n",
            "Headline 29: Listen to ‘Still Processing’\n",
            "Headline 30: Bonus: Is Kara Swisher a Chump?\n",
            "Headline 31: Listen to ‘Sway’\n",
            "Headline 32: The Tale of the Untamable Shrew\n",
            "Headline 33: The Tale of the Untamable Shrew\n",
            "Headline 34: Desperate for Distraction, We Chose Dragons\n",
            "Headline 35: Desperate for Distraction, We Chose Dragons\n",
            "Headline 36: Your Kids Aren’t Too Old for Picture Books, and Neither Are You\n",
            "Headline 37: Your Kids Aren’t Too Old for Picture Books, and Neither Are You\n",
            "Headline 38: What Are Sperm Telling Us?\n",
            "Headline 39: What Are Sperm Telling Us?\n",
            "Headline 40: Rush Limbaugh and the Petrification of Conservatism\n",
            "Headline 41: Rush Limbaugh and the Petrification of Conservatism\n",
            "Headline 42: The Lessons of the Texas Power Disaster\n",
            "Headline 43: The Lessons of the Texas Power Disaster\n",
            "Headline 44: Slow the Iron River of Guns to Mexico\n",
            "Headline 45: Slow the Iron River of Guns to Mexico\n",
            "Headline 46: ‘We Are Going to Keep You Safe, Even if It Kills Your Spirit’\n",
            "Headline 47: ‘We Are Going to Keep You Safe, Even if It Kills Your Spirit’ \n",
            "Headline 48: Must We Dance on Rush Limbaugh’s Grave?\n",
            "Headline 49: Must We Dance on Rush Limbaugh’s Grave?\n",
            "Headline 50: And Then the Gorillas Started Coughing\n",
            "Headline 51: And Then the Gorillas Started Coughing\n",
            "Headline 52: Ted Cruz Is Going to the Dogs\n",
            "Headline 53: Ted Cruz Is Going to the Dogs\n",
            "Headline 54: An Artist Exposing Fascism Through Provocation\n",
            "Headline 55: An Artist Exposing Fascism Through Provocation\n",
            "Headline 56: Is the Group Chat Sacred?\n",
            "Headline 57: Is the Group Chat Sacred?\n",
            "Headline 58: Who Is Still Buying VHS Tapes?\n",
            "Headline 59: VHS Tapes Are Worth Money\n"
          ],
          "name": "stdout"
        }
      ]
    },
    {
      "cell_type": "markdown",
      "metadata": {
        "id": "bd46NdN9Ebp2"
      },
      "source": [
        "18. Create a program that will play the “cows and bulls” game with the user. The game works like this:\n",
        "\n",
        "Randomly generate a 4-digit number. Ask the user to guess a 4-digit number. For every digit that the user guessed correctly in the correct place, they have a “cow”. For every digit the user guessed correctly in the wrong place is a “bull.” Every time the user makes a guess, tell them how many “cows” and “bulls” they have. Once the user guesses the correct number, the game is over. Keep track of the number of guesses the user makes throughout the game and tell the user at the end.\n",
        "\n",
        "Say the number generated by the computer is 1038. An example interaction could look like this:\n",
        "\n",
        "  Welcome to the Cows and Bulls Game! \n",
        "  Enter a number: \n",
        "  >>> 1234\n",
        "  2 cows, 0 bulls\n",
        "  >>> 1256\n",
        "  1 cow, 1 bull\n",
        "  ...\n",
        "Until the user guesses the number.\n",
        "\n",
        "website:-http://www.practicepython.org/exercise/2014/07/05/18-cows-and-bulls.html"
      ]
    },
    {
      "cell_type": "code",
      "metadata": {
        "colab": {
          "base_uri": "https://localhost:8080/"
        },
        "id": "VuYrsbiwPfDV",
        "outputId": "4c97aecd-0673-44d5-c1ec-748c12a9e12b"
      },
      "source": [
        "import random\n",
        "\n",
        "chars = \"1234567890\"\n",
        "\n",
        "rand_num = ''\n",
        "length = 4\n",
        "\n",
        "for c in range(length):\n",
        "  rand_num = rand_num + random.choice(chars)\n",
        "\n",
        "cow = []\n",
        "bull = []\n",
        "guess = ''\n",
        "pos_guess = 0\n",
        "guess_num = 0\n",
        "\n",
        "while guess[pos_guess:]:\n",
        "   pos_guess = pos_guess + 1\n",
        "\n",
        "while pos_guess != length:\n",
        "  guess = input(\"Please guess the 4 digit random number made by the generator:\")\n",
        "  guess_num = guess_num + 1\n",
        "\n",
        "  while guess[pos_guess:]:\n",
        "    pos_guess = pos_guess + 1\n",
        "\n",
        "  while guess != rand_num:\n",
        "    for c in range(length):\n",
        "      if rand_num[c] == guess[c]:\n",
        "        print(\"You have a cow in position \", c)\n",
        "        cow.append(c)\n",
        "    \n",
        "    for c in range(length):\n",
        "      if rand_num[c] != guess[c] and guess[c] in rand_num:\n",
        "        print(\"You have a bull in position \", c)\n",
        "        bull.append(c)\n",
        "\n",
        "    print(\"Cow placements: \", cow)\n",
        "    print (\"Bull placements: \", bull)\n",
        "    cow = []\n",
        "    bull = []\n",
        "    guess = input(\"You have not guessed all of the correct numbers. Please try again:\")\n",
        "    guess_num = guess_num + 1\n",
        "\n",
        "  else:\n",
        "    print(\"Congratulations, you have successfully guessed the random number!\")\n",
        "    print(\"The total number of guesses you made were \", guess_num)"
      ],
      "execution_count": null,
      "outputs": [
        {
          "output_type": "stream",
          "text": [
            "Please guess the 4 digit random number made by the generator:0000\n",
            "Cow placements:  []\n",
            "Bull placements:  []\n",
            "You have not guessed all of the correct numbers. Please try again:1111\n",
            "You have a cow in position  1\n",
            "You have a bull in position  0\n",
            "You have a bull in position  2\n",
            "You have a bull in position  3\n",
            "Cow placements:  [1]\n",
            "Bull placements:  [0, 2, 3]\n",
            "You have not guessed all of the correct numbers. Please try again:2122\n",
            "You have a cow in position  1\n",
            "Cow placements:  [1]\n",
            "Bull placements:  []\n",
            "You have not guessed all of the correct numbers. Please try again:3133\n",
            "You have a cow in position  1\n",
            "Cow placements:  [1]\n",
            "Bull placements:  []\n",
            "You have not guessed all of the correct numbers. Please try again:4144\n",
            "You have a cow in position  1\n",
            "You have a cow in position  3\n",
            "You have a bull in position  0\n",
            "You have a bull in position  2\n",
            "Cow placements:  [1, 3]\n",
            "Bull placements:  [0, 2]\n",
            "You have not guessed all of the correct numbers. Please try again:5154\n",
            "You have a cow in position  1\n",
            "You have a cow in position  3\n",
            "Cow placements:  [1, 3]\n",
            "Bull placements:  []\n",
            "You have not guessed all of the correct numbers. Please try again:6164\n",
            "You have a cow in position  1\n",
            "You have a cow in position  3\n",
            "Cow placements:  [1, 3]\n",
            "Bull placements:  []\n",
            "You have not guessed all of the correct numbers. Please try again:7174\n",
            "You have a cow in position  1\n",
            "You have a cow in position  3\n",
            "Cow placements:  [1, 3]\n",
            "Bull placements:  []\n",
            "You have not guessed all of the correct numbers. Please try again:8184\n",
            "You have a cow in position  0\n",
            "You have a cow in position  1\n",
            "You have a cow in position  3\n",
            "You have a bull in position  2\n",
            "Cow placements:  [0, 1, 3]\n",
            "Bull placements:  [2]\n",
            "You have not guessed all of the correct numbers. Please try again:8194\n",
            "Congratulations, you have successfully guessed the random number!\n",
            "The total number of guesses you made were  10\n"
          ],
          "name": "stdout"
        }
      ]
    },
    {
      "cell_type": "markdown",
      "metadata": {
        "id": "9LQY_6IlIv9J"
      },
      "source": [
        "19. Using the requests and BeautifulSoup Python libraries, print to the screen the full text of the article on this website: http://www.vanityfair.com/society/2014/06/monica-lewinsky-humiliation-culture.\n",
        "\n",
        "The article is long, so it is split up between 4 pages. Your task is to print out the text to the screen so that you can read the full article without having to click any buttons.\n",
        "\n",
        "(Hint: The post here describes in detail how to use the BeautifulSoup and requests libraries through the solution of the exercise posted here.)\n",
        "\n",
        "This will just print the full text of the article to the screen. It will not make it easy to read, so next exercise we will learn how to write this text to a .txt file.\n",
        "\n",
        "\n",
        "website:- http://www.practicepython.org/exercise/2014/07/14/19-decode-a-web-page-two.html"
      ]
    },
    {
      "cell_type": "code",
      "metadata": {
        "id": "u1fqJ0tdPPMw"
      },
      "source": [
        "import requests\n",
        "from bs4 import BeautifulSoup\n",
        "\n",
        "base_url = \"http://www.vanityfair.com/society/2014/06/monica-lewinsky-humiliation-culture\"\n",
        "r = requests.get(base_url)\n",
        "soup = BeautifulSoup(r.text)\n",
        "\n",
        "all_p_cn_text_body = soup.select(\"div.parbase.cn_text > div.body > p\")\n",
        "\n",
        "for elem in all_p_cn_text_body[7:]:\n",
        "  print(elem.text)\n"
      ],
      "execution_count": null,
      "outputs": []
    },
    {
      "cell_type": "markdown",
      "metadata": {
        "id": "VEpqhdJuvH30"
      },
      "source": [
        "20. Write a function that takes an ordered list of numbers (a list where the elements are in order from smallest to largest) and another number. The function decides whether or not the given number is inside the list and returns (then prints) an appropriate boolean.\n",
        "\n",
        "website:- http://www.practicepython.org/exercise/2014/11/11/20-element-search.html"
      ]
    },
    {
      "cell_type": "code",
      "metadata": {
        "colab": {
          "base_uri": "https://localhost:8080/"
        },
        "id": "dRTBhpyL4U1w",
        "outputId": "6f9d8d2a-053b-4e98-c998-f8dcf9974656"
      },
      "source": [
        "def find_num_in_list(list1, num):\n",
        "  if num in list1:\n",
        "    return True\n",
        "  else:\n",
        "    return False\n",
        "\n",
        "list1 = [5, 10, 15, 20, 25, 30, 35, 40, 45, 50]\n",
        "num = 25\n",
        "\n",
        "find_num_in_list(list1, num)"
      ],
      "execution_count": null,
      "outputs": [
        {
          "output_type": "execute_result",
          "data": {
            "text/plain": [
              "True"
            ]
          },
          "metadata": {
            "tags": []
          },
          "execution_count": 11
        }
      ]
    },
    {
      "cell_type": "markdown",
      "metadata": {
        "id": "8eXP2GIl5e8Q"
      },
      "source": [
        "21. Take the code from the How To Decode A Website exercise (if you didn’t do it or just want to play with some different code, use the code from the solution), and instead of printing the results to a screen, write the results to a txt file. In your code, just make up a name for the file you are saving to.\n",
        "\n",
        "website:- http://www.practicepython.org/exercise/2014/11/30/21-write-to-a-file.html"
      ]
    },
    {
      "cell_type": "code",
      "metadata": {
        "id": "Po1wEjN5jkFf"
      },
      "source": [
        "#this solution taken from:-\n",
        "#https://stackoverflow.com/questions/55033291/scraping-headlines-from-news-website-homepages-using-beautifulsoup-in-python\n",
        "\n",
        "import requests \n",
        "from bs4 import BeautifulSoup\n",
        "import json\n",
        "import datetime\n",
        "\n",
        "headers = {'user-agent': 'Mozilla/5.0 (Windows NT 10.0; Win64; x64) AppleWebKit/537.36 (KHTML, like Gecko) Chrome/85.0.4183.121 Safari/537.36'}\n",
        "\n",
        "url = \"https://www.nytimes.com/\"\n",
        "r = requests.get(url, headers=headers)\n",
        "now = datetime.datetime.now()\n",
        "now = now.strftime('%A, %B %d, %Y  %I:%M %p')\n",
        "\n",
        "r_html = r.text\n",
        "soup = BeautifulSoup(r_html, \"html.parser\")\n",
        "\n",
        "scripts = soup.find_all('script')\n",
        "for script in scripts:\n",
        "    if 'preloadedData' in script.text:\n",
        "        jsonStr = script.text\n",
        "        jsonStr = jsonStr.split('=', 1)[1].strip()\n",
        "        jsonStr = jsonStr.rsplit(';', 1)[0]\n",
        "        jsonObj = json.loads(jsonStr)\n",
        " \n",
        "sourcefile = open('headlines.txt', 'w')\n",
        "print ('%s\\nHeadlines\\n%s\\n' %(url, now), file = sourcefile)\n",
        "count = 1\n",
        "for ele, v in jsonObj['initialState'].items():\n",
        "    try:\n",
        "        if v['headline'] and v['__typename'] == 'PromotionalProperties':\n",
        "            print('Headline %s: %s' %(count, v['headline']), file = sourcefile)\n",
        "            count += 1\n",
        "    except:\n",
        "        continue\n",
        "sourcefile.close()\n"
      ],
      "execution_count": null,
      "outputs": []
    },
    {
      "cell_type": "markdown",
      "metadata": {
        "id": "GWsnO3qNnriV"
      },
      "source": [
        "22. Given a .txt file that has a list of a bunch of names, count how many of each name there are in the file, and print out the results to the screen. I have a .txt file for you, if you want to use it!\n",
        "\n",
        "website:- http://www.practicepython.org/exercise/2014/12/06/22-read-from-file.html"
      ]
    },
    {
      "cell_type": "code",
      "metadata": {
        "colab": {
          "base_uri": "https://localhost:8080/"
        },
        "id": "fNQYrqyFohyC",
        "outputId": "8009a360-d411-46a0-a10b-f4a200d3be7a"
      },
      "source": [
        "import pandas as pd\n",
        "import numpy as np\n",
        "\n",
        "file1 = pd.read_csv(\"http://www.practicepython.org/assets/nameslist.txt\", sep=\"\\n\", index_col=False, header=None)\n",
        "file1.columns = [\"names\"]\n",
        "\n",
        "file1['names'].value_counts()"
      ],
      "execution_count": null,
      "outputs": [
        {
          "output_type": "execute_result",
          "data": {
            "text/plain": [
              "Lea      54\n",
              "Darth    31\n",
              "Luke     15\n",
              "Name: names, dtype: int64"
            ]
          },
          "metadata": {
            "tags": []
          },
          "execution_count": 29
        }
      ]
    },
    {
      "cell_type": "markdown",
      "metadata": {
        "id": "iGa6gSRsQXNg"
      },
      "source": [
        "23. Given two .txt files that have lists of numbers in them, find the numbers that are overlapping. One .txt file has a list of all prime numbers under 1000, and the other .txt file has a list of happy numbers up to 1000.\n",
        "\n",
        "(If you forgot, prime numbers are numbers that can’t be divided by any other number. And yes, happy numbers are a real thing in mathematics - you can look it up on Wikipedia. The explanation is easier with an example, which I will describe below.)\n",
        "\n",
        "website:- http://www.practicepython.org/exercise/2014/12/14/23-file-overlap.html"
      ]
    },
    {
      "cell_type": "code",
      "metadata": {
        "colab": {
          "base_uri": "https://localhost:8080/"
        },
        "id": "dYf42q5AQ7kV",
        "outputId": "f9c115f1-ab6e-4b49-e435-722b574cca37"
      },
      "source": [
        "import pandas as pd\n",
        "import numpy as np\n",
        "\n",
        "prime = pd.read_csv(\"http://www.practicepython.org/assets/primenumbers.txt\", sep=\"\\n\", index_col=False,header=None)\n",
        "prime.columns = [\"number\"]\n",
        "\n",
        "happy = pd.read_csv(\"http://www.practicepython.org/assets/happynumbers.txt\", sep=\"\\n\", index_col=False,header=None)\n",
        "happy.columns = [\"number\"]\n",
        "\n",
        "prime.shape, happy.shape\n",
        "\n",
        "overlap = []\n",
        "\n",
        "for n in range(len(happy)):\n",
        "  if happy.number[n] in prime.number:\n",
        "    print(\"Happy number \", happy.number[n], \" is also a prime number.\")\n",
        "    overlap.append(happy.number[n])\n",
        "                   \n",
        "print(\"The happy and prime numbers that overlat are: \", overlap)\n"
      ],
      "execution_count": null,
      "outputs": [
        {
          "output_type": "stream",
          "text": [
            "Happy number  1  is also a prime number.\n",
            "Happy number  7  is also a prime number.\n",
            "Happy number  10  is also a prime number.\n",
            "Happy number  13  is also a prime number.\n",
            "Happy number  19  is also a prime number.\n",
            "Happy number  23  is also a prime number.\n",
            "Happy number  28  is also a prime number.\n",
            "Happy number  31  is also a prime number.\n",
            "Happy number  32  is also a prime number.\n",
            "Happy number  44  is also a prime number.\n",
            "Happy number  49  is also a prime number.\n",
            "Happy number  68  is also a prime number.\n",
            "Happy number  70  is also a prime number.\n",
            "Happy number  79  is also a prime number.\n",
            "Happy number  82  is also a prime number.\n",
            "Happy number  86  is also a prime number.\n",
            "Happy number  91  is also a prime number.\n",
            "Happy number  94  is also a prime number.\n",
            "Happy number  97  is also a prime number.\n",
            "Happy number  100  is also a prime number.\n",
            "Happy number  103  is also a prime number.\n",
            "Happy number  109  is also a prime number.\n",
            "Happy number  129  is also a prime number.\n",
            "Happy number  130  is also a prime number.\n",
            "Happy number  133  is also a prime number.\n",
            "Happy number  139  is also a prime number.\n",
            "Happy number  167  is also a prime number.\n",
            "The happy and prime numbers that overlat are:  [1, 7, 10, 13, 19, 23, 28, 31, 32, 44, 49, 68, 70, 79, 82, 86, 91, 94, 97, 100, 103, 109, 129, 130, 133, 139, 167]\n"
          ],
          "name": "stdout"
        }
      ]
    },
    {
      "cell_type": "markdown",
      "metadata": {
        "id": "0tW2-mBGVfgh"
      },
      "source": [
        "24. Time for some fake graphics! Let’s say we want to draw game boards that look like this:\n",
        "\n",
        " --- --- --- \n",
        "|   |   |   | \n",
        " --- --- ---  \n",
        "|   |   |   | \n",
        " --- --- ---  \n",
        "|   |   |   | \n",
        " --- --- --- \n",
        "\n",
        " website:- http://www.practicepython.org/exercise/2014/12/27/24-draw-a-game-board.html"
      ]
    },
    {
      "cell_type": "code",
      "metadata": {
        "colab": {
          "base_uri": "https://localhost:8080/"
        },
        "id": "Lr5s6ALIWhrb",
        "outputId": "a0151e1f-b8f5-4764-84c8-ad57a7c1e2a4"
      },
      "source": [
        "def draw():\n",
        "    # initialize an empty board\n",
        "    board = \"\"\n",
        "\n",
        "    # there are 5 rows in a standard tic-tac-toe board\n",
        "    for i in range(7):\n",
        "        # switch between printing vertical and horizontal bars\n",
        "        if i%2 == 0:\n",
        "            board += \" --- \" * 3\n",
        "        else:\n",
        "            board += \"|    \" * 4\n",
        "        # don't forget to start a new line after each row using \"\\n\"\n",
        "        board += \"\\n\"\n",
        "\n",
        "    print(board)\n",
        "\n",
        "draw()"
      ],
      "execution_count": null,
      "outputs": [
        {
          "output_type": "stream",
          "text": [
            " ---  ---  --- \n",
            "|    |    |    |    \n",
            " ---  ---  --- \n",
            "|    |    |    |    \n",
            " ---  ---  --- \n",
            "|    |    |    |    \n",
            " ---  ---  --- \n",
            "\n"
          ],
          "name": "stdout"
        }
      ]
    },
    {
      "cell_type": "markdown",
      "metadata": {
        "id": "YpJX7VchZLkW"
      },
      "source": [
        "25. In a previous exercise, we’ve written a program that “knows” a number and asks a user to guess it.\n",
        "\n",
        "This time, we’re going to do exactly the opposite. You, the user, will have in your head a number between 0 and 100. The program will guess a number, and you, the user, will say whether it is too high, too low, or your number.\n",
        "\n",
        "At the end of this exchange, your program should print out how many guesses it took to get your number.\n",
        "\n",
        "As the writer of this program, you will have to choose how your program will strategically guess. A naive strategy can be to simply start the guessing at 1, and keep going (2, 3, 4, etc.) until you hit the number. But that’s not an optimal guessing strategy. An alternate strategy might be to guess 50 (right in the middle of the range), and then increase / decrease by 1 as needed. After you’ve written the program, try to find the optimal strategy! (We’ll talk about what is the optimal one next week with the solution.)\n",
        "\n",
        "website:- http://www.practicepython.org/exercise/2015/11/01/25-guessing-game-two.html"
      ]
    },
    {
      "cell_type": "code",
      "metadata": {
        "colab": {
          "base_uri": "https://localhost:8080/"
        },
        "id": "Ba9Xu3MuZtlB",
        "outputId": "e722bc70-96d4-4bee-8f4d-49356509becc"
      },
      "source": [
        "from random import randint\n",
        "\n",
        "num = int(input(\"Enter the number you want the computer to guess between 0 and 100: \"))\n",
        "\n",
        "com_num = -1\n",
        "guess_no = 0\n",
        "list_of_guess = []\n",
        "\n",
        "while com_num != num:\n",
        "  if com_num not in list_of_guess:\n",
        "    com_num = randint(0,100)\n",
        "    list_of_guess.append(com_num)\n",
        "    guess_no = guess_no + 1\n",
        "    print(\"The number the computer has guessed is: \", com_num)\n",
        "  else:\n",
        "    com_num = randint(0,100)\n",
        "else:\n",
        "   print(\"Congratulations to the computer, which correctly guessed your number in \", guess_no, \"guesses\")\n",
        "   print(\"The number of numbers in list_of_guess is \", len(list_of_guess))\n",
        "   print(list_of_guess)\n"
      ],
      "execution_count": null,
      "outputs": [
        {
          "output_type": "stream",
          "text": [
            "Enter the number you want the computer to guess between 0 and 100: 34\n",
            "The number the computer has guessed is:  12\n",
            "The number the computer has guessed is:  39\n",
            "The number the computer has guessed is:  17\n",
            "The number the computer has guessed is:  74\n",
            "The number the computer has guessed is:  85\n",
            "The number the computer has guessed is:  11\n",
            "The number the computer has guessed is:  83\n",
            "The number the computer has guessed is:  94\n",
            "The number the computer has guessed is:  18\n",
            "The number the computer has guessed is:  59\n",
            "The number the computer has guessed is:  8\n",
            "The number the computer has guessed is:  85\n",
            "The number the computer has guessed is:  13\n",
            "The number the computer has guessed is:  12\n",
            "The number the computer has guessed is:  33\n",
            "The number the computer has guessed is:  98\n",
            "The number the computer has guessed is:  30\n",
            "The number the computer has guessed is:  95\n",
            "The number the computer has guessed is:  34\n",
            "Congratulations to the computer, which correctly guessed your number in  19 guesses\n",
            "The number of numbers in list_of_guess is  19\n",
            "[12, 39, 17, 74, 85, 11, 83, 94, 18, 59, 8, 85, 13, 12, 33, 98, 30, 95, 34]\n"
          ],
          "name": "stdout"
        }
      ]
    },
    {
      "cell_type": "markdown",
      "metadata": {
        "id": "HOz4uoEUkKew"
      },
      "source": [
        "26. This exercise is Part 2 of 4 of the Tic Tac Toe exercise series. The other exercises are: Part 1, Part 3, and Part 4.\n",
        "\n",
        "As you may have guessed, we are trying to build up to a full tic-tac-toe board. However, this is significantly more than half an hour of coding, so we’re doing it in pieces.\n",
        "\n",
        "Today, we will simply focus on checking whether someone has WON a game of Tic Tac Toe, not worrying about how the moves were made.\n",
        "\n",
        "If a game of Tic Tac Toe is represented as a list of lists, like so:\n",
        "\n",
        "game = [[1, 2, 0],\n",
        "\t[2, 1, 0],\n",
        "\t[2, 1, 1]]\n",
        "where a 0 means an empty square, a 1 means that player 1 put their token in that space, and a 2 means that player 2 put their token in that space.\n",
        "\n",
        "Your task this week: given a 3 by 3 list of lists that represents a Tic Tac Toe game board, tell me whether anyone has won, and tell me which player won, if any. A Tic Tac Toe win is 3 in a row - either in a row, a column, or a diagonal. Don’t worry about the case where TWO people have won - assume that in every board there will only be one winner.\n",
        "\n",
        "Here are some more examples to work with:\n",
        "\n",
        "winner_is_2 = [[2, 2, 0],\n",
        "\t[2, 1, 0],\n",
        "\t[2, 1, 1]]\n",
        "\n",
        "winner_is_1 = [[1, 2, 0],\n",
        "\t[2, 1, 0],\n",
        "\t[2, 1, 1]]\n",
        "\n",
        "winner_is_also_1 = [[0, 1, 0],\n",
        "\t[2, 1, 0],\n",
        "\t[2, 1, 1]]\n",
        "\n",
        "no_winner = [[1, 2, 0],\n",
        "\t[2, 1, 0],\n",
        "\t[2, 1, 2]]\n",
        "\n",
        "also_no_winner = [[1, 2, 0],\n",
        "\t[2, 1, 0],\n",
        "\t[2, 1, 0]]\n",
        "\n",
        "website: http://www.practicepython.org/exercise/2015/11/16/26-check-tic-tac-toe.html"
      ]
    },
    {
      "cell_type": "code",
      "metadata": {
        "colab": {
          "base_uri": "https://localhost:8080/"
        },
        "id": "kaIxbFsfkgJ2",
        "outputId": "6ba5c343-8646-4d5d-912c-ce29fc633168"
      },
      "source": [
        "#website:- https://www.codesnail.com/tic-tac-toe-game-in-python/\n",
        "\n",
        "board = [\" \", \" \", \" \", \" \", \" \", \" \", \" \", \" \", \" \", \" \"]\n",
        "def draw_board(board):\n",
        "    print(board[7] + \" |\" + board[8] + \" |\" + board[9])\n",
        "    print(\"--+--+--\")\n",
        "    print(board[4] + \" |\" + board[5] + \" |\" + board[6])\n",
        "    print(\"--+--+--\")\n",
        "    print(board[1] + \" |\" + board[2] + \" |\" + board[3])\n",
        "player1 = input(\"Enter 1st Player name: \")\n",
        "player2 = input(\"Enter 2nd Player name: \")\n",
        "print(player1 + \": X |\" + player2 + \": O\")\n",
        "def game():\n",
        "    turn = \"X\"\n",
        "    count = 0\n",
        "    player_turn = player1\n",
        "    for i in range(10):\n",
        "        draw_board(board)\n",
        "        print(\"It's your turn, \" + player_turn + \". Move to which place?\")\n",
        "        move = eval(input())\n",
        "        if board[move] == \" \":\n",
        "            board[move] = turn\n",
        "            count += 1\n",
        "        else:\n",
        "            print(\"That place is already filled.\\nMove to which place?\")\n",
        "            continue\n",
        "        if count >= 5:\n",
        "            if board[7] == board[8] == board[9] != \" \":  # across the top\n",
        "                declare_winner(turn)\n",
        "                break\n",
        "            elif board[4] == board[5] == board[6] != \" \":  # across the middle\n",
        "                declare_winner(turn)\n",
        "                break\n",
        "            elif board[1] == board[2] == board[3] != \" \":  # across the bottom\n",
        "                declare_winner(turn)\n",
        "                break\n",
        "            elif board[1] == board[4] == board[7] != \" \":  # down the left side\n",
        "                declare_winner(turn)\n",
        "                break\n",
        "            elif board[2] == board[5] == board[8] != \" \":  # down the middle\n",
        "                declare_winner(turn)\n",
        "                break\n",
        "            elif board[3] == board[6] == board[9] != \" \":  # down the right side\n",
        "                declare_winner(turn)\n",
        "                break\n",
        "            elif board[7] == board[5] == board[3] != \" \":  # diagonal\n",
        "                declare_winner(turn)\n",
        "                break\n",
        "            elif board[1] == board[5] == board[9] != \" \":  # diagonal\n",
        "                declare_winner(turn)\n",
        "                break\n",
        "        # If neither X nor O wins and the board is full, we'll declare the result as 'tie'.\n",
        "        if count == 9:\n",
        "            print(\"\\nGame Over.\\n\")\n",
        "            print(\"It's a Tie!!\")\n",
        "        # Now we have to change the player after every move.\n",
        "        if turn == \"X\":\n",
        "            turn = \"O\"\n",
        "            player_turn = player2\n",
        "        else:\n",
        "            turn = \"X\"\n",
        "            player_turn = player1\n",
        "    # Now we will ask if player wants to restart the game or not.\n",
        "    restart = input(\"\\nDo want to play Again?(y/n): \")\n",
        "    if restart == \"y\" or restart == \"Y\":\n",
        "        for element in board:\n",
        "            board[board.index(element)] = \" \"\n",
        "        game()\n",
        "def declare_winner(turn):\n",
        "    draw_board(board)\n",
        "    print(\"\\nGame Over.\\n\")\n",
        "    if turn == \"X\":\n",
        "        print(\" **** \" + player1 + \" won ****\")\n",
        "    else:\n",
        "        print(\" **** \" + player2 + \" won ****\")\n",
        "if __name__ == \"__main__\":\n",
        "    game()\n"
      ],
      "execution_count": null,
      "outputs": [
        {
          "output_type": "stream",
          "text": [
            "Enter 1st Player name: tracy\n",
            "Enter 2nd Player name: mike\n",
            "tracy: X |mike: O\n",
            "  |  | \n",
            "--+--+--\n",
            "  |  | \n",
            "--+--+--\n",
            "  |  | \n",
            "It's your turn, tracy. Move to which place?\n",
            "7\n",
            "X |  | \n",
            "--+--+--\n",
            "  |  | \n",
            "--+--+--\n",
            "  |  | \n",
            "It's your turn, mike. Move to which place?\n",
            "3\n",
            "X |  | \n",
            "--+--+--\n",
            "  |  | \n",
            "--+--+--\n",
            "  |  |O\n",
            "It's your turn, tracy. Move to which place?\n",
            "8\n",
            "X |X | \n",
            "--+--+--\n",
            "  |  | \n",
            "--+--+--\n",
            "  |  |O\n",
            "It's your turn, mike. Move to which place?\n",
            "9\n",
            "X |X |O\n",
            "--+--+--\n",
            "  |  | \n",
            "--+--+--\n",
            "  |  |O\n",
            "It's your turn, tracy. Move to which place?\n",
            "6\n",
            "X |X |O\n",
            "--+--+--\n",
            "  |  |X\n",
            "--+--+--\n",
            "  |  |O\n",
            "It's your turn, mike. Move to which place?\n",
            "1\n",
            "X |X |O\n",
            "--+--+--\n",
            "  |  |X\n",
            "--+--+--\n",
            "O |  |O\n",
            "It's your turn, tracy. Move to which place?\n",
            "2\n",
            "X |X |O\n",
            "--+--+--\n",
            "  |  |X\n",
            "--+--+--\n",
            "O |X |O\n",
            "It's your turn, mike. Move to which place?\n",
            "5\n",
            "X |X |O\n",
            "--+--+--\n",
            "  |O |X\n",
            "--+--+--\n",
            "O |X |O\n",
            "\n",
            "Game Over.\n",
            "\n",
            " **** mike won ****\n",
            "\n",
            "Do want to play Again?(y/n): n\n"
          ],
          "name": "stdout"
        }
      ]
    },
    {
      "cell_type": "markdown",
      "metadata": {
        "id": "1YDicMiW0Ph2"
      },
      "source": [
        "27. This exercise is Part 3 of 4 of the Tic Tac Toe exercise series. The other exercises are: Part 1, Part 2, and Part 4.\n",
        "\n",
        "In a previous exercise we explored the idea of using a list of lists as a “data structure” to store information about a tic tac toe game. In a tic tac toe game, the “game server” needs to know where the Xs and Os are in the board, to know whether player 1 or player 2 (or whoever is X and O won).\n",
        "\n",
        "There has also been an exercise about drawing the actual tic tac toe gameboard using text characters.\n",
        "\n",
        "The next logical step is to deal with handling user input. When a player (say player 1, who is X) wants to place an X on the screen, they can’t just click on a terminal. So we are going to approximate this clicking simply by asking the user for a coordinate of where they want to place their piece.\n",
        "\n",
        "As a reminder, our tic tac toe game is really a list of lists. The game starts out with an empty game board like this:\n",
        "\n",
        "game = [[0, 0, 0],\n",
        "\t[0, 0, 0],\n",
        "\t[0, 0, 0]]\n",
        "The computer asks Player 1 (X) what their move is (in the format row,col), and say they type 1,3. Then the game would print out\n",
        "\n",
        "game = [[0, 0, X],\n",
        "\t[0, 0, 0],\n",
        "\t[0, 0, 0]]\n",
        "And ask Player 2 for their move, printing an O in that place.\n",
        "\n",
        "Things to note:\n",
        "\n",
        "For this exercise, assume that player 1 (the first player to move) will always be X and player 2 (the second player) will always be O.\n",
        "Notice how in the example I gave coordinates for where I want to move starting from (1, 1) instead of (0, 0). To people who don’t program, starting to count at 0 is a strange concept, so it is better for the user experience if the row counts and column counts start at 1. This is not required, but whichever way you choose to implement this, it should be explained to the player.\n",
        "Ask the user to enter coordinates in the form “row,col” - a number, then a comma, then a number. Then you can use your Python skills to figure out which row and column they want their piece to be in.\n",
        "Don’t worry about checking whether someone won the game, but if a player tries to put a piece in a game position where there already is another piece, do not allow the piece to go there.\n",
        "Bonus:\n",
        "\n",
        "For the “standard” exercise, don’t worry about “ending” the game - no need to keep track of how many squares are full. In a bonus version, keep track of how many squares are full and automatically stop asking for moves when there are no more valid moves.\n",
        "\n",
        "website:- http://www.practicepython.org/exercise/2015/11/26/27-tic-tac-toe-draw.html"
      ]
    },
    {
      "cell_type": "code",
      "metadata": {
        "id": "3G4St50J07EW"
      },
      "source": [
        "#automatic tic tac toe\n",
        "#https://www.myhowtoonline.com/how-to-make-a-simple-tic-tac-toe-game-in-python/\n",
        "\n",
        "# Tic-Tac-Toe Program using \n",
        "# random number in Python \n",
        "   \n",
        "# importing all necessary libraries \n",
        "import numpy as np \n",
        "import random \n",
        "from time import sleep \n",
        "   \n",
        "# Creates an empty board \n",
        "def create_board(): \n",
        "    return(np.array([[0, 0, 0], \n",
        "                     [0, 0, 0], \n",
        "                     [0, 0, 0]])) \n",
        "   \n",
        "# Check for empty places on board \n",
        "def possibilities(board): \n",
        "    l = [] \n",
        "       \n",
        "    for i in range(len(board)): \n",
        "        for j in range(len(board)): \n",
        "               \n",
        "            if board[i][j] == 0: \n",
        "                l.append((i, j)) \n",
        "    return(l) \n",
        "   \n",
        "# Select a random place for the player \n",
        "def random_place(board, player): \n",
        "    selection = possibilities(board) \n",
        "    current_loc = random.choice(selection) \n",
        "    board[current_loc] = player \n",
        "    return(board) \n",
        "   \n",
        "# Checks whether the player has three  \n",
        "# of their marks in a horizontal row \n",
        "def row_win(board, player): \n",
        "    for x in range(len(board)): \n",
        "        win = True\n",
        "           \n",
        "        for y in range(len(board)): \n",
        "            if board[x, y] != player: \n",
        "                win = False\n",
        "                continue\n",
        "                   \n",
        "        if win == True: \n",
        "            return(win) \n",
        "    return(win) \n",
        "   \n",
        "# Checks whether the player has three \n",
        "# of their marks in a vertical row \n",
        "def col_win(board, player): \n",
        "    for x in range(len(board)): \n",
        "        win = True\n",
        "           \n",
        "        for y in range(len(board)): \n",
        "            if board[y][x] != player: \n",
        "                win = False\n",
        "                continue\n",
        "                   \n",
        "        if win == True: \n",
        "            return(win) \n",
        "    return(win) \n",
        "   \n",
        "# Checks whether the player has three \n",
        "# of their marks in a diagonal row \n",
        "def diag_win(board, player): \n",
        "    win = True\n",
        "       \n",
        "    for x in range(len(board)): \n",
        "        if board[x, x] != player: \n",
        "            win = False\n",
        "    return(win) \n",
        "   \n",
        "# Evaluates whether there is \n",
        "# a winner or a tie  \n",
        "def evaluate(board): \n",
        "    winner = 0\n",
        "       \n",
        "    for player in [1, 2]: \n",
        "        if (row_win(board, player) or\n",
        "            col_win(board,player) or\n",
        "            diag_win(board,player)): \n",
        "                  \n",
        "            winner = player \n",
        "               \n",
        "    if np.all(board != 0) and winner == 0: \n",
        "        winner = -1\n",
        "    return winner \n",
        "   \n",
        "# Main function to start the game \n",
        "def play_game(): \n",
        "    board, winner, counter = create_board(), 0, 1\n",
        "    print(board) \n",
        "    sleep(2) \n",
        "       \n",
        "    while winner == 0: \n",
        "        for player in [1, 2]: \n",
        "            board = random_place(board, player) \n",
        "            print(\"Board after \" + str(counter) + \" move\") \n",
        "            print(board) \n",
        "            sleep(2) \n",
        "            counter += 1\n",
        "            winner = evaluate(board) \n",
        "            if winner != 0: \n",
        "                break\n",
        "    return(winner) \n",
        "   \n",
        "# Driver Code \n",
        "print(\"Winner is: \" + str(play_game()))"
      ],
      "execution_count": null,
      "outputs": []
    },
    {
      "cell_type": "code",
      "metadata": {
        "id": "0LZu9tT523Qc"
      },
      "source": [
        "#play tic tac toe with the computer\n",
        "\n",
        "import time\n",
        "import random as r\n",
        "def makeboard(board):\n",
        "        print(board[0],'|',board[1],'|',board[2])\n",
        "        print('--+---+--')\n",
        "        print(board[3],'|',board[4],'|',board[5])\n",
        "        print('--+---+--')\n",
        "        print(board[6],'|',board[7],'|',board[8])\n",
        " \n",
        " \n",
        " \n",
        "def winning_checker(board,tom,user):\n",
        "    row1 = [board[0],board[1],board[2]]\n",
        "    row2 = [board[3],board[4],board[5]]\n",
        "    row3 = [board[6],board[7],board[8]]\n",
        "    col1 = [board[0],board[3],board[6]]\n",
        "    col2 = [board[1],board[4],board[7]]\n",
        "    col3 = [board[2],board[5],board[8]]\n",
        "    dia1 = [board[0],board[4],board[8]]\n",
        "    dia2 = [board[2],board[4],board[6]]\n",
        "    for row in [row1,row2,row3,col1,col2,col3,dia1,dia2]:\n",
        "        if row == [user,user,user]:\n",
        "            return 'you win'\n",
        "            break\n",
        "        if row == [tom,tom,tom]:\n",
        "            return 'computer wins'\n",
        "            break\n",
        " \n",
        "def AI_simulator(board,tom,user,u):\n",
        "    row1 = [board[0],board[1],board[2]]\n",
        "    row2 = [board[3],board[4],board[5]]\n",
        "    row3 = [board[6],board[7],board[8]]\n",
        "    col1 = [board[0],board[3],board[6]]\n",
        "    col2 = [board[1],board[4],board[7]]\n",
        "    col3 = [board[2],board[5],board[8]]\n",
        "    dia1 = [board[0],board[4],board[8]]\n",
        "    dia2 = [board[2],board[4],board[6]]\n",
        "    tabs = [row1,row2,row3,col1,col2,col3,dia1,dia2]\n",
        "    for row in tabs:\n",
        "        if row == [' ',tom,tom]:\n",
        "            x = tabs.index(row)\n",
        "            if x == 0:\n",
        "                board[0] = tom\n",
        "            if x == 1:\n",
        "                board[3] = tom\n",
        "            if x == 2:\n",
        "                board[6] = tom\n",
        "            if x == 3:\n",
        "                board[0] = tom\n",
        "            if x == 4:\n",
        "                board[1] = tom\n",
        "            if x == 5:\n",
        "                board[2] = tom\n",
        "            if x == 6:\n",
        "                board[0] = tom\n",
        "            if x == 7:\n",
        "                board[2] = tom\n",
        "            print('tom played:')\n",
        "            makeboard(board)\n",
        "            break\n",
        "        elif row == [tom,' ',tom]:\n",
        "            x = tabs.index(row)\n",
        "            if x == 0:\n",
        "                board[1] = tom\n",
        "            if x == 1:\n",
        "                board[4] = tom\n",
        "            if x == 2:\n",
        "                board[7] = tom\n",
        "            if x == 3:\n",
        "                board[3] = tom\n",
        "            if x == 4:\n",
        "                board[4] = tom\n",
        "            if x == 5:\n",
        "                board[5] = tom\n",
        "            if x == 6:\n",
        "                board[4] = tom\n",
        "            if x == 7:\n",
        "                board[4] = tom\n",
        "            print('tom played:')\n",
        "            makeboard(board)\n",
        "            break\n",
        "        elif row == [tom,tom,' ']:\n",
        "            x = tabs.index(row)\n",
        "            if x == 0:\n",
        "                board[2] = tom\n",
        "            if x == 1:\n",
        "                board[5] = tom\n",
        "            if x == 2:\n",
        "                board[8] = tom\n",
        "            if x == 3:\n",
        "                board[6] = tom\n",
        "            if x == 4:\n",
        "                board[7] = tom\n",
        "            if x == 5:\n",
        "                board[8] = tom\n",
        "            if x == 6:\n",
        "                board[8] = tom\n",
        "            if x == 7:\n",
        "                board[6] = tom\n",
        "            print('tom played:')\n",
        "            makeboard(board)\n",
        "            break\n",
        "    if (row != [' ',tom,tom] and row != [tom,' ',tom] and row != [tom,tom,' ']):\n",
        "        time.sleep(1)\n",
        "        AI_block(board,tom,user)\n",
        " \n",
        "def AI_block(board,tom,user):\n",
        "    row1 = [board[0],board[1],board[2]]\n",
        "    row2 = [board[3],board[4],board[5]]\n",
        "    row3 = [board[6],board[7],board[8]]\n",
        "    col1 = [board[0],board[3],board[6]]\n",
        "    col2 = [board[1],board[4],board[7]]\n",
        "    col3 = [board[2],board[5],board[8]]\n",
        "    dia1 = [board[0],board[4],board[8]]\n",
        "    dia2 = [board[2],board[4],board[6]]\n",
        "    tabs = [row1,row2,row3,col1,col2,col3,dia1,dia2]\n",
        "    for row in tabs:\n",
        "        if row == [' ',user,user]:\n",
        "            x = tabs.index(row)\n",
        "            if x == 0:\n",
        "                board[0] = tom\n",
        "            if x == 1:\n",
        "                board[3] = tom\n",
        "            if x == 2:\n",
        "                board[6] = tom\n",
        "            if x == 3:\n",
        "                board[0] = tom\n",
        "            if x == 4:\n",
        "                board[1] = tom\n",
        "            if x == 5:\n",
        "                board[2] = tom\n",
        "            if x == 6:\n",
        "                board[0] = tom\n",
        "            if x == 7:\n",
        "                board[2] = tom\n",
        "            print('tom played:')\n",
        "            makeboard(board)\n",
        "            break\n",
        "        elif row == [user,' ',user]:\n",
        "            x = tabs.index(row)\n",
        "            if x == 0:\n",
        "                board[1] = tom\n",
        "            if x == 1:\n",
        "                board[4] = tom\n",
        "            if x == 2:\n",
        "                board[7] = tom\n",
        "            if x == 3:\n",
        "                board[3] = tom\n",
        "            if x == 4:\n",
        "                board[4] = tom\n",
        "            if x == 5:\n",
        "                board[5] = tom\n",
        "            if x == 6:\n",
        "                board[4] = tom\n",
        "            if x == 7:\n",
        "                board[4] = tom\n",
        "            print('tom played:')\n",
        "            makeboard(board)\n",
        "            break\n",
        "        elif row == [user,user,' ']:\n",
        "            x = tabs.index(row)\n",
        "            if x == 0:\n",
        "                board[2] = tom\n",
        "            if x == 1:\n",
        "                board[5] = tom\n",
        "            if x == 2:\n",
        "                board[8] = tom\n",
        "            if x == 3:\n",
        "                board[6] = tom\n",
        "            if x == 4:\n",
        "                board[7] = tom\n",
        "            if x == 5:\n",
        "                board[8] = tom\n",
        "            if x == 6:\n",
        "                board[8] = tom\n",
        "            if x == 7:\n",
        "                board[6] = tom\n",
        "            print('tom played:')\n",
        "            makeboard(board)\n",
        "            break\n",
        "    if (row != [' ',user,user] and row != [user,' ',user] and row != [user,user,' ']):\n",
        "        AI_decisionbox(board,tom,user)\n",
        " \n",
        "def AI_decisionbox(board,tom,user):\n",
        "    count = 0\n",
        "    for posn in range(9):\n",
        "        if board[posn] == ' ':\n",
        "            board[posn] = user\n",
        "            row1 = [board[0],board[1],board[2]]\n",
        "            row2 = [board[3],board[4],board[5]]\n",
        "            row3 = [board[6],board[7],board[8]]\n",
        "            col1 = [board[0],board[3],board[6]]\n",
        "            col2 = [board[1],board[4],board[7]]\n",
        "            col3 = [board[2],board[5],board[8]]\n",
        "            dia1 = [board[0],board[4],board[8]]\n",
        "            dia2 = [board[2],board[4],board[6]]\n",
        "            tabs = [row1,row2,row3,col1,col2,col3,dia1,dia2]\n",
        "            for row in tabs:\n",
        "                if (row == [' ',user,user]) or (row == [user,' ',user]) or (row == [user,user,' ']):\n",
        "                    count += 1\n",
        "            if count >= 2:\n",
        "                board[posn] = tom\n",
        "                print('tom played:')\n",
        "                makeboard(board)\n",
        "                break\n",
        "            else:\n",
        "                board[posn] = ' '\n",
        "                count = 0\n",
        "    if count < 2: while True: n = r.choice([0,2,6,8]) if board[n] == ' ': board[n] = tom print('tom played: ') makeboard(board) break else: nu = r.randint(0,8) if board[nu] == ' ': board[nu] = tom print('tom played: ') makeboard(board) break while True: entry = input('choose between O and X: ') user = entry.upper() while user not in ['X','O','x','o']: print('X and O are the recommended markers') entry = input() user = entry.upper() if (user == 'X') or (user == 'x'): tom = 'O' else: tom = 'X' board = [' ',' ',' ',' ',' ',' ',' ',' ',' '] k = 0 u = 0 t = 0 corners = [0,2,6,8] while True: if k == 0: makeboard(board) num = int(input('choose a number between 0 and 8: ')) while True: if num > 8:\n",
        "                print('number must be from 1 to 8')\n",
        "                num = int(input('enter number again'))\n",
        "            break\n",
        "        while True:\n",
        "            if board[num] != ' ':\n",
        "                print('this number has been chosen please choose another')\n",
        "                num =int(input())\n",
        "            else:\n",
        "                board[num] = user\n",
        "                print('you played:')\n",
        "                makeboard(board)\n",
        "                break\n",
        "        if u >= 2:\n",
        "            winning_checker(board,tom,user)\n",
        "            if winning_checker(board,tom,user) == 'you win':\n",
        "                time.sleep(1)\n",
        "                print('you win')\n",
        "                break\n",
        "        u += 1\n",
        "        if k == 4:\n",
        "            print('the game ends in a draw')\n",
        "            break\n",
        "        print('its tom turn')\n",
        "        time.sleep(1)\n",
        "        if t == 0:\n",
        "            while True:\n",
        "                if board[4] == ' ':\n",
        "                    board[4] = tom\n",
        "                    print('tom played:')\n",
        "                    makeboard(board)\n",
        "                    break\n",
        "                elif board[4] != ' ':\n",
        "                    p = r.choice(corners)\n",
        "                    if board[p] == ' ':\n",
        "                        board[p] = tom\n",
        "                        print('tom played:')\n",
        "                        makeboard(board)\n",
        "                        break\n",
        "                #else:\n",
        "                    #nu = r.randint(0,8)\n",
        "                    #if board[nu] == ' ':\n",
        "                        #board[nu] = tom\n",
        "                        #print('tom played: ')\n",
        "                        #makeboard(board)\n",
        "                        #break\n",
        "        if t > 0:\n",
        "            if t == 1:\n",
        "                if (board[0] == user and board[8] == user) or (board[2] == user and board[6] == user):\n",
        "                    while True:\n",
        "                        q = r.choice([1,3,5,7])\n",
        "                        if board[q] == ' ':\n",
        "                            board[q] = tom\n",
        "                            print('tom played:')\n",
        "                            makeboard(board)\n",
        "                            break\n",
        "                else:\n",
        "                    AI_simulator(board,tom,user,u)\n",
        "                    winning_checker(board,tom,user)\n",
        "            else:\n",
        "                AI_simulator(board,tom,user,u)\n",
        "                winning_checker(board,tom,user)\n",
        "        if winning_checker(board,tom,user) == 'computer wins':\n",
        "            print('tom wins')\n",
        "            break\n",
        "        t += 1\n",
        "        k += 1\n",
        "        time.sleep(1)\n",
        "    print('Do you want to play again')\n",
        "    time.sleep(1)\n",
        "    reply = input('enter yes to play again: ')\n",
        "    reply = reply.lower()\n",
        "    if reply == 'yes':\n",
        "        continue\n",
        "    else:\n",
        "        time.sleep(1)\n",
        "        print('thank you for playing')\n",
        "        break"
      ],
      "execution_count": null,
      "outputs": []
    },
    {
      "cell_type": "code",
      "metadata": {
        "id": "i7NkB-IA3Nj8"
      },
      "source": [
        "#play tic tac toe with a friend\n",
        "\n",
        "def tic_tac_toe():\n",
        "    board = [1, 2, 3, 4, 5, 6, 7, 8, 9]\n",
        "    end = False\n",
        "    win_commbinations = ((0, 1, 2), (3, 4, 5), (6, 7, 8), (0, 3, 6), (1, 4, 7), (2, 5, 8), (0, 4, 8), (2, 4, 6))\n",
        " \n",
        "    def draw():\n",
        "        print(board[0], board[1], board[2])\n",
        "        print(board[3], board[4], board[5])\n",
        "        print(board[6], board[7], board[8])\n",
        "        print()\n",
        " \n",
        "    def p1():\n",
        "        n = choose_number()\n",
        "        if board[n] == \"X\" or board[n] == \"O\":\n",
        "            print(\"\\nYou can't go there. Try again\")\n",
        "            p1()\n",
        "        else:\n",
        "            board[n] = \"X\"\n",
        " \n",
        "    def p2():\n",
        "        n = choose_number()\n",
        "        if board[n] == \"X\" or board[n] == \"O\":\n",
        "            print(\"\\nYou can't go there. Try again\")\n",
        "            p2()\n",
        "        else:\n",
        "            board[n] = \"O\"\n",
        " \n",
        "    def choose_number():\n",
        "        while True:\n",
        "            while True:\n",
        "                a = input()\n",
        "                try:\n",
        "                    a  = int(a)\n",
        "                    a -= 1\n",
        "                    if a in range(0, 9):\n",
        "                        return a\n",
        "                    else:\n",
        "                        print(\"\\nThat's not on the board. Try again\")\n",
        "                        continue\n",
        "                except ValueError:\n",
        "                   print(\"\\nThat's not a number. Try again\")\n",
        "                   continue\n",
        " \n",
        "    def check_board():\n",
        "        count = 0\n",
        "        for a in win_commbinations:\n",
        "            if board[a[0]] == board[a[1]] == board[a[2]] == \"X\":\n",
        "                print(\"Player 1 Wins!\\n\")\n",
        "                print(\"Congratulations!\\n\")\n",
        "                return True\n",
        " \n",
        "            if board[a[0]] == board[a[1]] == board[a[2]] == \"O\":\n",
        "                print(\"Player 2 Wins!\\n\")\n",
        "                print(\"Congratulations!\\n\")\n",
        "                return True\n",
        "        for a in range(9):\n",
        "            if board[a] == \"X\" or board[a] == \"O\":\n",
        "                count += 1\n",
        "            if count == 9:\n",
        "                print(\"The game ends in a Tie\\n\")\n",
        "                return True\n",
        " \n",
        "    while not end:\n",
        "        draw()\n",
        "        end = check_board()\n",
        "        if end == True:\n",
        "            break\n",
        "        print(\"Player 1 choose where to place a cross\")\n",
        "        p1()\n",
        "        print()\n",
        "        draw()\n",
        "        end = check_board()\n",
        "        if end == True:\n",
        "            break\n",
        "        print(\"Player 2 choose where to place a nought\")\n",
        "        p2()\n",
        "        print()\n",
        " \n",
        "    if input(\"Play again (y/n)\\n\") == \"y\":\n",
        "        print()\n",
        "        tic_tac_toe()\n",
        " \n",
        "tic_tac_toe()"
      ],
      "execution_count": null,
      "outputs": []
    },
    {
      "cell_type": "markdown",
      "metadata": {
        "id": "A7nchuCN3d8o"
      },
      "source": [
        "28. Implement a function that takes as input three variables, and returns the largest of the three. Do this without using the Python max() function!\n",
        "\n",
        "The goal of this exercise is to think about some internals that Python normally takes care of for us. All you need is some variables and if statements!\n",
        "\n",
        "website:- http://www.practicepython.org/exercise/2016/03/27/28-max-of-three.html"
      ]
    },
    {
      "cell_type": "code",
      "metadata": {
        "colab": {
          "base_uri": "https://localhost:8080/"
        },
        "id": "Gs6Sh46D30P8",
        "outputId": "fcd6567c-42f1-4554-e5ae-de38a7b52360"
      },
      "source": [
        "def largest(arr,n):\n",
        "  var_max = var[0]\n",
        "  for i in range(1, n): \n",
        "    if arr[i] > var_max: \n",
        "      var_max = var[i] \n",
        "  return var_max\n",
        "\n",
        "\n",
        "var = [5, 10, 15]\n",
        "n = len(var)\n",
        "answer = largest(var,n)\n",
        "print (\"Largest in given array is\", answer)"
      ],
      "execution_count": null,
      "outputs": [
        {
          "output_type": "stream",
          "text": [
            "Largest in given array is 15\n"
          ],
          "name": "stdout"
        }
      ]
    },
    {
      "cell_type": "markdown",
      "metadata": {
        "id": "k_40fqux85Ko"
      },
      "source": [
        "29. This exercise is Part 4 of 4 of the Tic Tac Toe exercise series. The other exercises are: Part 1, Part 2, and Part 3.\n",
        "\n",
        "In 3 previous exercises, we built up a few components needed to build a Tic Tac Toe game in Python:\n",
        "\n",
        "Draw the Tic Tac Toe game board\n",
        "Checking whether a game board has a winner\n",
        "Handle a player move from user input\n",
        "The next step is to put all these three components together to make a two-player Tic Tac Toe game! Your challenge in this exercise is to use the functions from those previous exercises all together in the same program to make a two-player game that you can play with a friend. There are a lot of choices you will have to make when completing this exercise, so you can go as far or as little as you want with it.\n",
        "\n",
        "Here are a few things to keep in mind:\n",
        "\n",
        "You should keep track of who won - if there is a winner, show a congratulatory message on the screen.\n",
        "If there are no more moves left, don’t ask for the next player’s move!\n",
        "As a bonus, you can ask the players if they want to play again and keep a running tally of who won more - Player 1 or Player 2.\n",
        "\n",
        "website:- http://www.practicepython.org/exercise/2016/08/03/29-tic-tac-toe-game.html"
      ]
    },
    {
      "cell_type": "markdown",
      "metadata": {
        "id": "qam2kLLc9Txo"
      },
      "source": [
        "30. This exercise is Part 1 of 3 of the Hangman exercise series. The other exercises are: Part 2 and Part 3.\n",
        "\n",
        "In this exercise, the task is to write a function that picks a random word from a list of words from the SOWPODS dictionary. Download this file and save it in the same directory as your Python code. This file is Peter Norvig’s compilation of the dictionary of words used in professional Scrabble tournaments. Each line in the file contains a single word.\n",
        "\n",
        "Hint: use the Python random library for picking a random word\n",
        "\n",
        "SOWPODS is a word list commonly used in word puzzles and games (like Scrabble for example). It is the combination of the Scrabble Player’s Dictionary and the Chamber’s Dictionary. (The history of SOWPODS is quite interesting,\n",
        "\n",
        "website:- http://www.practicepython.org/exercise/2016/09/24/30-pick-word.html"
      ]
    },
    {
      "cell_type": "code",
      "metadata": {
        "colab": {
          "base_uri": "https://localhost:8080/"
        },
        "id": "rUUpea_C96lo",
        "outputId": "9ab751e8-9f81-4d47-c89d-c8c8bd3a042f"
      },
      "source": [
        "import pandas as pd\n",
        "import numpy as np\n",
        "import random\n",
        "\n",
        "sowpods = pd.read_csv(\"http://norvig.com/ngrams/sowpods.txt\", sep=\"\\n\", index_col=False, header=None)\n",
        "sowpods.columns = [\"names\"]\n",
        "names = sowpods.names\n",
        "length = len(names)\n",
        "\n",
        "def pick_word(names):\n",
        "  print(names.sample())\n",
        "\n",
        "pick_word(sowpods)\n",
        "\n",
        "def rand_word(names):\n",
        "  num = random.randint(1,length)\n",
        "  print(names.iloc[num])\n",
        "\n",
        "rand_word(sowpods)\n"
      ],
      "execution_count": null,
      "outputs": [
        {
          "output_type": "stream",
          "text": [
            "              names\n",
            "250557  UNINVENTIVE\n",
            "names    DIVULSE\n",
            "Name: 66102, dtype: object\n"
          ],
          "name": "stdout"
        }
      ]
    },
    {
      "cell_type": "markdown",
      "metadata": {
        "id": "-5KZkion-gbq"
      },
      "source": [
        "31. This exercise is Part 2 of 3 of the Hangman exercise series. The other exercises are: Part 1 and Part 3.\n",
        "\n",
        "Let’s continue building Hangman. In the game of Hangman, a clue word is given by the program that the player has to guess, letter by letter. The player guesses one letter at a time until the entire word has been guessed. (In the actual game, the player can only guess 6 letters incorrectly before losing).\n",
        "\n",
        "Let’s say the word the player has to guess is “EVAPORATE”. For this exercise, write the logic that asks a player to guess a letter and displays letters in the clue word that were guessed correctly. For now, let the player guess an infinite number of times until they get the entire word. As a bonus, keep track of the letters the player guessed and display a different message if the player tries to guess that letter again. Remember to stop the game when all the letters have been guessed correctly! Don’t worry about choosing a word randomly or keeping track of the number of guesses the player has remaining - we will deal with those in a future exercise.\n",
        "\n",
        "An example interaction can look like this:\n",
        "\n",
        ">>> Welcome to Hangman!\n",
        "_ _ _ _ _ _ _ _ _\n",
        ">>> Guess your letter: S\n",
        "Incorrect!\n",
        ">>> Guess your letter: E\n",
        "E _ _ _ _ _ _ _ E\n",
        "...\n",
        "And so on, until the player gets the word.\n",
        "\n",
        "website: http://www.practicepython.org/exercise/2017/01/02/31-guess-letters.html"
      ]
    },
    {
      "cell_type": "code",
      "metadata": {
        "colab": {
          "base_uri": "https://localhost:8080/"
        },
        "id": "OYXXi-ldRV32",
        "outputId": "fd65db3d-997e-48e9-ef9f-12c6671db32e"
      },
      "source": [
        "import pandas as pd\n",
        "import numpy as np\n",
        "import random\n",
        "\n",
        "sowpods = pd.read_csv(\"http://norvig.com/ngrams/sowpods.txt\", sep=\"\\n\", index_col=False, header=None)\n",
        "sowpods.columns = [\"names\"]\n",
        "names = sowpods.names\n",
        "length = len(names)\n",
        "\n",
        "names = names.values.tolist()\n",
        "\n",
        "rand_word = random.choice(names)\n",
        "rand_word = rand_word.upper()\n",
        "rand_word = list(rand_word)\n",
        "#print(\"The random word from the list of words is:\", rand_word) #this is only used for testing\n",
        "\n",
        "play_letter = ''\n",
        "play_word = []\n",
        "\n",
        "for x in range(len(rand_word)):\n",
        "  play_word.append('_')\n",
        "print(\"The word the player guesses is currently: \", play_word)\n",
        "\n",
        "guess_no = 0\n",
        "\n",
        "while play_word != rand_word:\n",
        "  play_letter = str(input(\"Please enter a letter in the word the computer selected: \"))\n",
        "  play_letter = play_letter.upper()\n",
        "  guess_no = guess_no + 1\n",
        "  if play_letter in rand_word:\n",
        "    for g in range(len(rand_word)):\n",
        "      if play_letter == rand_word[g]:\n",
        "        print(\"The letter you selected is in the word the computer selected in position \", g)\n",
        "        play_word[g] = play_letter\n",
        "        print(play_word)\n",
        "  else:\n",
        "    print(\"Unfortunately the letter you selected is not in the randomly selected word.\")\n",
        "else:\n",
        "  print(\"Congratulations, you have successfuly guessed the characters in the randomly selected word.\")\n",
        "  print(\"You guessed this word in \", guess_no, \" attempts.\")"
      ],
      "execution_count": null,
      "outputs": [
        {
          "output_type": "stream",
          "text": [
            "The word the player guesses is currently:  ['_', '_', '_', '_', '_', '_', '_', '_', '_', '_', '_', '_']\n",
            "Please enter a letter in the word the computer selected: a\n",
            "The letter you selected is in the word the computer selected in position  2\n",
            "['_', '_', 'A', '_', '_', '_', '_', '_', '_', '_', '_', '_']\n",
            "Please enter a letter in the word the computer selected: e\n",
            "The letter you selected is in the word the computer selected in position  10\n",
            "['_', '_', 'A', '_', '_', '_', '_', '_', '_', '_', 'E', '_']\n",
            "Please enter a letter in the word the computer selected: i\n",
            "The letter you selected is in the word the computer selected in position  5\n",
            "['_', '_', 'A', '_', '_', 'I', '_', '_', '_', '_', 'E', '_']\n",
            "The letter you selected is in the word the computer selected in position  8\n",
            "['_', '_', 'A', '_', '_', 'I', '_', '_', 'I', '_', 'E', '_']\n",
            "Please enter a letter in the word the computer selected: o\n",
            "The letter you selected is in the word the computer selected in position  6\n",
            "['_', '_', 'A', '_', '_', 'I', 'O', '_', 'I', '_', 'E', '_']\n",
            "Please enter a letter in the word the computer selected: u\n",
            "Unfortunately the letter you selected is not in the randomly selected word.\n",
            "Please enter a letter in the word the computer selected: y\n",
            "Unfortunately the letter you selected is not in the randomly selected word.\n",
            "Please enter a letter in the word the computer selected: b\n",
            "Unfortunately the letter you selected is not in the randomly selected word.\n",
            "Please enter a letter in the word the computer selected: c\n",
            "The letter you selected is in the word the computer selected in position  3\n",
            "['_', '_', 'A', 'C', '_', 'I', 'O', '_', 'I', '_', 'E', '_']\n",
            "Please enter a letter in the word the computer selected: d\n",
            "The letter you selected is in the word the computer selected in position  11\n",
            "['_', '_', 'A', 'C', '_', 'I', 'O', '_', 'I', '_', 'E', 'D']\n",
            "Please enter a letter in the word the computer selected: f\n",
            "The letter you selected is in the word the computer selected in position  0\n",
            "['F', '_', 'A', 'C', '_', 'I', 'O', '_', 'I', '_', 'E', 'D']\n",
            "Please enter a letter in the word the computer selected: r\n",
            "The letter you selected is in the word the computer selected in position  1\n",
            "['F', 'R', 'A', 'C', '_', 'I', 'O', '_', 'I', '_', 'E', 'D']\n",
            "Please enter a letter in the word the computer selected: t\n",
            "The letter you selected is in the word the computer selected in position  4\n",
            "['F', 'R', 'A', 'C', 'T', 'I', 'O', '_', 'I', '_', 'E', 'D']\n",
            "Please enter a letter in the word the computer selected: n\n",
            "The letter you selected is in the word the computer selected in position  7\n",
            "['F', 'R', 'A', 'C', 'T', 'I', 'O', 'N', 'I', '_', 'E', 'D']\n",
            "Please enter a letter in the word the computer selected: z\n",
            "Unfortunately the letter you selected is not in the randomly selected word.\n",
            "Please enter a letter in the word the computer selected: s\n",
            "The letter you selected is in the word the computer selected in position  9\n",
            "['F', 'R', 'A', 'C', 'T', 'I', 'O', 'N', 'I', 'S', 'E', 'D']\n",
            "Congratulations, you have successfuly guessed the characters in the randomly selected word.\n",
            "You guessed this word in  15  attempts.\n"
          ],
          "name": "stdout"
        }
      ]
    },
    {
      "cell_type": "markdown",
      "metadata": {
        "id": "Rdh3EUbocoK4"
      },
      "source": [
        "32. This exercise is Part 3 of 3 of the Hangman exercise series. The other exercises are: Part 1 and Part 2.\n",
        "\n",
        "You can start your Python journey anywhere, but to finish this exercise you will have to have finished Parts 1 and 2 or use the solutions (Part 1 and Part 2).\n",
        "\n",
        "In this exercise, we will finish building Hangman. In the game of Hangman, the player only has 6 incorrect guesses (head, body, 2 legs, and 2 arms) before they lose the game.\n",
        "\n",
        "In Part 1, we loaded a random word list and picked a word from it. In Part 2, we wrote the logic for guessing the letter and displaying that information to the user. In this exercise, we have to put it all together and add logic for handling guesses.\n",
        "\n",
        "Copy your code from Parts 1 and 2 into a new file as a starting point. Now add the following features:\n",
        "\n",
        "Only let the user guess 6 times, and tell the user how many guesses they have left.\n",
        "Keep track of the letters the user guessed. If the user guesses a letter they already guessed, don’t penalize them - let them guess again.\n",
        "\n",
        "website:- http://www.practicepython.org/exercise/2017/01/10/32-hangman.html"
      ]
    },
    {
      "cell_type": "code",
      "metadata": {
        "id": "bg9Wv0ESuuIv",
        "colab": {
          "base_uri": "https://localhost:8080/"
        },
        "outputId": "2dd9261d-b36a-4590-8982-205252221e65"
      },
      "source": [
        "import pandas as pd\n",
        "import numpy as np\n",
        "import random\n",
        "\n",
        "sowpods = pd.read_csv(\"http://norvig.com/ngrams/sowpods.txt\", sep=\"\\n\", index_col=False, header=None)\n",
        "sowpods.columns = [\"names\"]\n",
        "names = sowpods.names\n",
        "length = len(names)\n",
        "\n",
        "names = names.values.tolist()\n",
        "\n",
        "rand_word = random.choice(names)\n",
        "rand_word = rand_word.upper()\n",
        "rand_word = list(rand_word)\n",
        "#print(\"The random word from the list of words is:\", rand_word) #this is only used for testing\n",
        "\n",
        "play_letter = ''\n",
        "play_word = []\n",
        "\n",
        "for x in range(len(rand_word)):\n",
        "  play_word.append('_')\n",
        "print(\"The word the player guesses is currently: \", play_word)\n",
        "\n",
        "guess_no = 0\n",
        "\n",
        "while play_word != rand_word and guess_no <= len(rand_word):\n",
        "  guess_no = guess_no + 1\n",
        "  if guess_no <= len(rand_word):\n",
        "    play_letter = str(input(\"Please enter a letter in the word the computer selected: \"))\n",
        "    play_letter = play_letter.upper()\n",
        "  elif guess_no > len(rand_word):\n",
        "    print(\"Unfortunately you did not guess the correct letters in the word in \", len(rand_word), \"guesses or less.\")\n",
        "    print(\"The game is ended and the computer has won.\")\n",
        "    break\n",
        "  print(\"You have \", len(rand_word) - guess_no, \"guesses left.\")\n",
        "  if play_letter in rand_word:\n",
        "    for g in range(len(rand_word)):\n",
        "      if play_letter == rand_word[g]:\n",
        "        print(\"The letter you selected is in the word the computer selected in position \", g)\n",
        "        play_word[g] = play_letter\n",
        "        print(play_word)\n",
        "  else:\n",
        "    print(\"Unfortunately the letter you selected is not in the randomly selected word.\")\n",
        "else:\n",
        "  print(\"Congratulations. You guessed correctly the letters to the randomly generated word in \", guess_no, \"guesses.\")\n"
      ],
      "execution_count": null,
      "outputs": [
        {
          "output_type": "stream",
          "text": [
            "The word the player guesses is currently:  ['_', '_', '_', '_', '_', '_', '_', '_', '_', '_', '_', '_']\n",
            "Please enter a letter in the word the computer selected: a\n",
            "You have  11 guesses left.\n",
            "The letter you selected is in the word the computer selected in position  3\n",
            "['_', '_', '_', 'A', '_', '_', '_', '_', '_', '_', '_', '_']\n",
            "Please enter a letter in the word the computer selected: e\n",
            "You have  10 guesses left.\n",
            "The letter you selected is in the word the computer selected in position  10\n",
            "['_', '_', '_', 'A', '_', '_', '_', '_', '_', '_', 'E', '_']\n",
            "Please enter a letter in the word the computer selected: i\n",
            "You have  9 guesses left.\n",
            "The letter you selected is in the word the computer selected in position  6\n",
            "['_', '_', '_', 'A', '_', '_', 'I', '_', '_', '_', 'E', '_']\n",
            "The letter you selected is in the word the computer selected in position  8\n",
            "['_', '_', '_', 'A', '_', '_', 'I', '_', 'I', '_', 'E', '_']\n",
            "Please enter a letter in the word the computer selected: r\n",
            "You have  8 guesses left.\n",
            "The letter you selected is in the word the computer selected in position  0\n",
            "['R', '_', '_', 'A', '_', '_', 'I', '_', 'I', '_', 'E', '_']\n",
            "Please enter a letter in the word the computer selected: o\n",
            "You have  7 guesses left.\n",
            "The letter you selected is in the word the computer selected in position  1\n",
            "['R', 'O', '_', 'A', '_', '_', 'I', '_', 'I', '_', 'E', '_']\n",
            "Please enter a letter in the word the computer selected: t\n",
            "You have  6 guesses left.\n",
            "The letter you selected is in the word the computer selected in position  5\n",
            "['R', 'O', '_', 'A', '_', 'T', 'I', '_', 'I', '_', 'E', '_']\n",
            "Please enter a letter in the word the computer selected: l\n",
            "You have  5 guesses left.\n",
            "Unfortunately the letter you selected is not in the randomly selected word.\n",
            "Please enter a letter in the word the computer selected: s\n",
            "You have  4 guesses left.\n",
            "The letter you selected is in the word the computer selected in position  9\n",
            "['R', 'O', '_', 'A', '_', 'T', 'I', '_', 'I', 'S', 'E', '_']\n",
            "Please enter a letter in the word the computer selected: v\n",
            "You have  3 guesses left.\n",
            "Unfortunately the letter you selected is not in the randomly selected word.\n",
            "Please enter a letter in the word the computer selected: b\n",
            "You have  2 guesses left.\n",
            "Unfortunately the letter you selected is not in the randomly selected word.\n",
            "Please enter a letter in the word the computer selected: c\n",
            "You have  1 guesses left.\n",
            "The letter you selected is in the word the computer selected in position  7\n",
            "['R', 'O', '_', 'A', '_', 'T', 'I', 'C', 'I', 'S', 'E', '_']\n",
            "Please enter a letter in the word the computer selected: d\n",
            "You have  0 guesses left.\n",
            "The letter you selected is in the word the computer selected in position  11\n",
            "['R', 'O', '_', 'A', '_', 'T', 'I', 'C', 'I', 'S', 'E', 'D']\n",
            "Unfortunately you did not guess the correct letters in the word in  12 guesses or less.\n",
            "The game is ended and the computer has won.\n"
          ],
          "name": "stdout"
        }
      ]
    },
    {
      "cell_type": "markdown",
      "metadata": {
        "id": "b4sQbKBE7Oxs"
      },
      "source": [
        "33. This exercise is Part 1 of 4 of the birthday data exercise series. The other exercises are: Part 2, Part 3, and Part 4.\n",
        "\n",
        "For this exercise, we will keep track of when our friend’s birthdays are, and be able to find that information based on their name. Create a dictionary (in your file) of names and birthdays. When you run your program it should ask the user to enter a name, and return the birthday of that person back to them. The interaction should look something like this:\n",
        "\n",
        ">>> Welcome to the birthday dictionary. We know the birthdays of:\n",
        "Albert Einstein\n",
        "Benjamin Franklin\n",
        "Ada Lovelace\n",
        ">>> Who's birthday do you want to look up?\n",
        "Benjamin Franklin\n",
        ">>> Benjamin Franklin's birthday is 01/17/1706.\n",
        "\n",
        "website:- http://www.practicepython.org/exercise/2017/01/24/33-birthday-dictionaries.html"
      ]
    },
    {
      "cell_type": "code",
      "metadata": {
        "colab": {
          "base_uri": "https://localhost:8080/"
        },
        "id": "B5T-KXe8h_yk",
        "outputId": "83b83dbe-8645-483e-aa3e-b2ed1310db9b"
      },
      "source": [
        "import json\n",
        "\n",
        "bday_dic = {\"Adrian\": \"7 Apr 83\",\"Kathy\": \"5 Mar 42\",\"Mike\": \"31 Jan 67\",\"Mark\": \"26 Jul 59\",\"Cindy\": \"30 Jan 61\",\"Lind\": \"3 Jan 58\",\"Sonny\": \"3 Jan 60\"}\n",
        "\n",
        "friend = str(input(\"Enter the name of the person whose' birthday you would like to retrieve:\"))\n",
        "print(bday_dic[friend])\n",
        "\n",
        "bday_json = json.dumps(bday_dic)\n",
        "print(bday_json)\n"
      ],
      "execution_count": null,
      "outputs": [
        {
          "output_type": "stream",
          "text": [
            "Enter the name of the person whose' birthday you would like to retrieve:Adrian\n",
            "7 Apr 83\n",
            "{\"Adrian\": \"7 Apr 83\", \"Kathy\": \"5 Mar 42\", \"Mike\": \"31 Jan 67\", \"Mark\": \"26 Jul 59\", \"Cindy\": \"30 Jan 61\", \"Lind\": \"3 Jan 58\", \"Sonny\": \"3 Jan 60\"}\n"
          ],
          "name": "stdout"
        }
      ]
    },
    {
      "cell_type": "markdown",
      "metadata": {
        "id": "c7qzKDVa7DX8"
      },
      "source": [
        "34. This exercise is Part 2 of 4 of the birthday data exercise series. The other exercises are: Part 1, Part 3, and Part 4.\n",
        "\n",
        "In the previous exercise we created a dictionary of famous scientists’ birthdays. In this exercise, modify your program from Part 1 to load the birthday dictionary from a JSON file on disk, rather than having the dictionary defined in the program.\n",
        "\n",
        "Bonus: Ask the user for another scientist’s name and birthday to add to the dictionary, and update the JSON file you have on disk with the scientist’s name. If you run the program multiple times and keep adding new names, your JSON file should keep getting bigger and bigger.\n",
        "\n",
        "website: http://www.practicepython.org/exercise/2017/02/06/34-birthday-json.html"
      ]
    },
    {
      "cell_type": "code",
      "metadata": {
        "colab": {
          "base_uri": "https://localhost:8080/"
        },
        "id": "oV1647n_XFI5",
        "outputId": "03768971-f716-42d7-ca06-da17272bda0f"
      },
      "source": [
        "import json\n",
        "\n",
        "bday_dic = {\"Adrian\": \"7 Apr 1983\",\"Kathy\": \"5 Mar 1942\",\"Mike\": \"31 Jan 1967\",\"Mark\": \"26 Jul 1959\",\"Cindy\": \"30 Jan 1961\",\"Lind\": \"3 Jan 1958\",\"Sonny\": \"3 Jan 1960\", \"Barbara\": \"13 Jun 38\"}\n",
        "\n",
        "#retrieve selected data from dictionary\n",
        "friend = str(input(\"Enter the name of the person whose' birthday you would like to retrieve:\"))\n",
        "print(bday_dic[friend])\n",
        "\n",
        "#convert dictionary to json file\n",
        "with open(\"bday_info.json\", \"w\") as f:\n",
        "    json.dump(bday_dic, f)\n",
        "\n",
        "#read json file\n",
        "with open('bday_info.json') as f:\n",
        "  data = json.load(f)\n",
        "  print(data)\n",
        "\n",
        "#append data to bday list\n",
        "name = str(input(\"Enter the name of the person you want to add: \"))\n",
        "bday = str(input(\"Enter the person's birthday: \"))\n",
        "new_data = {name : bday}\n",
        "print(new_data)\n",
        "\n",
        "data.update(new_data)\n",
        "\n",
        "with open('bday_info.json', 'w') as f:\n",
        "  json.dump(data, f)\n",
        "  print(data)\n"
      ],
      "execution_count": null,
      "outputs": [
        {
          "output_type": "stream",
          "text": [
            "Enter the name of the person whose' birthday you would like to retrieve:Cindy\n",
            "30 Jan 1961\n",
            "{'Adrian': '7 Apr 1983', 'Kathy': '5 Mar 1942', 'Mike': '31 Jan 1967', 'Mark': '26 Jul 1959', 'Cindy': '30 Jan 1961', 'Lind': '3 Jan 1958', 'Sonny': '3 Jan 1960', 'Barbara': '13 Jun 38'}\n",
            "Enter the name of the person you want to add: Barbara\n",
            "Enter the person's birthday: 13 Jun 1938\n",
            "{'Barbara': '13 Jun 1938'}\n",
            "{'Adrian': '7 Apr 1983', 'Kathy': '5 Mar 1942', 'Mike': '31 Jan 1967', 'Mark': '26 Jul 1959', 'Cindy': '30 Jan 1961', 'Lind': '3 Jan 1958', 'Sonny': '3 Jan 1960', 'Barbara': '13 Jun 1938'}\n"
          ],
          "name": "stdout"
        }
      ]
    },
    {
      "cell_type": "markdown",
      "metadata": {
        "id": "iCrzsAWcd4Ru"
      },
      "source": [
        "35. This exercise is Part 3 of 4 of the birthday data exercise series. The other exercises are: Part 1, Part 2, and Part 4.\n",
        "\n",
        "In the previous exercise we saved information about famous scientists’ names and birthdays to disk. In this exercise, load that JSON file from disk, extract the months of all the birthdays, and count how many scientists have a birthday in each month.\n",
        "\n",
        "Your program should output something like:\n",
        "\n",
        "{\n",
        "\t\"May\": 3,\n",
        "\t\"November\": 2,\n",
        "\t\"December\": 1\n",
        "}\n",
        "\n",
        "website: http://www.practicepython.org/exercise/2017/02/28/35-birthday-months.html"
      ]
    },
    {
      "cell_type": "code",
      "metadata": {
        "colab": {
          "base_uri": "https://localhost:8080/"
        },
        "id": "aq5ZHVClPGcZ",
        "outputId": "28d0a0be-1955-4868-9083-385ba28a66b6"
      },
      "source": [
        "import json\n",
        "import pandas as pd\n",
        "import numpy as np\n",
        "import datetime\n",
        "\n",
        "#read json file\n",
        "with open('bday_info.json') as f:\n",
        "  data = json.load(f)\n",
        "  print(data)\n",
        "\n",
        "#load JSON file into pandas DataFrame\n",
        "df = pd.read_json('/content/bday_info.json', orient='index')\n",
        "df.reset_index()\n",
        "df.columns =['bday']\n",
        "df['name'] = df.index\n",
        "df.reset_index(inplace=True, drop=True)\n",
        "\n",
        "#convert date to string\n",
        "df['date'] = pd.to_datetime(df['bday'])\n",
        "df['month'] = df['date'].dt.month\n",
        "df\n",
        "\n",
        "month1 = {1:'Jan', 2:'Feb', 3:'Mar', 4:'Apr', 5:'May', 6:'Jun', 7:'Jul', 8:'Aug', 9:'Sep', 10:'Oct', 11:'Nov', 12:'Dec'}\n",
        "df['month1'] = df['month'].map(month1)\n",
        "df\n",
        "\n",
        "df['month1'].value_counts()\n"
      ],
      "execution_count": null,
      "outputs": [
        {
          "output_type": "stream",
          "text": [
            "{'Adrian': '7 Apr 1983', 'Kathy': '5 Mar 1942', 'Mike': '31 Jan 1967', 'Mark': '26 Jul 1959', 'Cindy': '30 Jan 1961', 'Lind': '3 Jan 1958', 'Sonny': '3 Jan 1960', 'Barbara': '13 Jun 1938'}\n"
          ],
          "name": "stdout"
        },
        {
          "output_type": "execute_result",
          "data": {
            "text/plain": [
              "Jan    4\n",
              "Jul    1\n",
              "Apr    1\n",
              "Mar    1\n",
              "Jun    1\n",
              "Name: month1, dtype: int64"
            ]
          },
          "metadata": {
            "tags": []
          },
          "execution_count": 34
        }
      ]
    },
    {
      "cell_type": "code",
      "metadata": {
        "colab": {
          "base_uri": "https://localhost:8080/",
          "height": 412
        },
        "id": "5BHqFIR4ZWSe",
        "outputId": "ecbba709-4361-4599-af98-0ab847ddbbb7"
      },
      "source": [
        "import seaborn as sns\n",
        "import matplotlib.pyplot as plt\n",
        "\n",
        "bday_month = df.groupby('month1')['month1'].count()\n",
        "bday_month\n",
        "\n",
        "bday_month.plot(kind='bar', title = 'Birthday by Month', figsize = (10,6), cmap='Dark2', rot = 30);\n"
      ],
      "execution_count": null,
      "outputs": [
        {
          "output_type": "display_data",
          "data": {
            "image/png": "[encoded data removed]",
            "text/plain": [
              "<Figure size 720x432 with 1 Axes>"
            ]
          },
          "metadata": {
            "tags": [],
            "needs_background": "light"
          }
        }
      ]
    }
  ]
}