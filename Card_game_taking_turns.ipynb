{
  "nbformat": 4,
  "nbformat_minor": 0,
  "metadata": {
    "colab": {
      "name": "Card game  - taking turns.ipynb",
      "provenance": []
    },
    "kernelspec": {
      "name": "python3",
      "display_name": "Python 3"
    }
  },
  "cells": [
    {
      "cell_type": "markdown",
      "metadata": {
        "id": "vdt_NkjYhyep"
      },
      "source": [
        "There are two players in this game. \r\n",
        "\r\n",
        "The recipient gets one card for each turn.\r\n",
        "\r\n",
        "The dealer gets (one card times turn) for each turn.\r\n",
        "\r\n",
        "How many cards do the dealer and the recipient get for each turn?"
      ]
    },
    {
      "cell_type": "markdown",
      "metadata": {
        "id": "aVT6uKVGiczT"
      },
      "source": [
        "Import libraries"
      ]
    },
    {
      "cell_type": "code",
      "metadata": {
        "id": "G_oEI-yFht4S"
      },
      "source": [
        "import numpy as np\r\n",
        "import pandas as pd"
      ],
      "execution_count": 9,
      "outputs": []
    },
    {
      "cell_type": "markdown",
      "metadata": {
        "id": "DM0D5GX0K2Uo"
      },
      "source": [
        "Initialise variables"
      ]
    },
    {
      "cell_type": "code",
      "metadata": {
        "id": "hlxWmQmtK5kq"
      },
      "source": [
        "deal1 = 0\r\n",
        "deal2 = 0\r\n",
        "turn = 0"
      ],
      "execution_count": 10,
      "outputs": []
    },
    {
      "cell_type": "markdown",
      "metadata": {
        "id": "T0rAqj8Aim_M"
      },
      "source": [
        "Game"
      ]
    },
    {
      "cell_type": "code",
      "metadata": {
        "colab": {
          "base_uri": "https://localhost:8080/"
        },
        "id": "iafQE8YJi_SM",
        "outputId": "339bb7ce-831f-4bd2-bf94-f90406c5bf1d"
      },
      "source": [
        "cards = input(\"How many cards are in the deck? \")\r\n",
        "cards = int(cards)"
      ],
      "execution_count": 11,
      "outputs": [
        {
          "output_type": "stream",
          "text": [
            "How many cards are in the deck? 33\n"
          ],
          "name": "stdout"
        }
      ]
    },
    {
      "cell_type": "markdown",
      "metadata": {
        "id": "oAx4cdj-Kc9c"
      },
      "source": [
        "While statement"
      ]
    },
    {
      "cell_type": "code",
      "metadata": {
        "colab": {
          "base_uri": "https://localhost:8080/"
        },
        "id": "9LCPoLpyKwH6",
        "outputId": "3ef76594-54f0-40e6-b68a-1b6b2721d394"
      },
      "source": [
        "while cards > 0:\r\n",
        "  turn = turn + 1\r\n",
        "  if cards >= 1:\r\n",
        "    deal1 = deal1 + 1\r\n",
        "    cards = cards - 1\r\n",
        "  if cards >= turn:\r\n",
        "    deal2 = deal2 + turn\r\n",
        "    cards = cards - turn\r\n",
        "  else:\r\n",
        "    deal2 = deal2 + cards\r\n",
        "    cards = cards - cards\r\n",
        "  print(\"Turn: \", turn, \" Cards \", cards, \" Deal1 \", deal1, \" Deal2 \", deal2)"
      ],
      "execution_count": 12,
      "outputs": [
        {
          "output_type": "stream",
          "text": [
            "Turn:  1  Cards  31  Deal1  1  Deal2  1\n",
            "Turn:  2  Cards  28  Deal1  2  Deal2  3\n",
            "Turn:  3  Cards  24  Deal1  3  Deal2  6\n",
            "Turn:  4  Cards  19  Deal1  4  Deal2  10\n",
            "Turn:  5  Cards  13  Deal1  5  Deal2  15\n",
            "Turn:  6  Cards  6  Deal1  6  Deal2  21\n",
            "Turn:  7  Cards  0  Deal1  7  Deal2  26\n"
          ],
          "name": "stdout"
        }
      ]
    }
  ]
}