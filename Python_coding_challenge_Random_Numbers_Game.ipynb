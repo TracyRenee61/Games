{
  "nbformat": 4,
  "nbformat_minor": 0,
  "metadata": {
    "colab": {
      "name": "Python coding challenge - Random Numbers Game.ipynb",
      "provenance": []
    },
    "kernelspec": {
      "name": "python3",
      "display_name": "Python 3"
    }
  },
  "cells": [
    {
      "cell_type": "markdown",
      "metadata": {
        "id": "TYd4dpxGx2o9"
      },
      "source": [
        "The Challenge\r\n",
        "\r\n",
        "There are two players.\r\n",
        "\r\n",
        "Each player writes a number, hidden from the other player. It can be any integer 1 or greater.\r\n",
        "\r\n",
        "The players reveal their numbers.\r\n",
        "\r\n",
        "Whoever chose the lower number gets 1 point, unless the lower number is lower by only 1, then the player with the higher number gets 2 points.\r\n",
        "\r\n",
        "If they both chose the same number, neither player gets a point.\r\n",
        "\r\n",
        "This repeats, and the game ends when one player has 5 points.\r\n",
        "\r\n",
        "The challenge is to write a script to play this game. Knowing the rules and all your opponent’s previous numbers, can you program a strategy? (And, no - return random.randint(1, 3) is not a strategy.) You should really try playing this first with your friends - you’ll see there’s a deep human element to predicting your opponent’s choice.\r\n",
        "\r\n",
        "Is it possible to program a strong strategy?\r\n"
      ]
    },
    {
      "cell_type": "markdown",
      "metadata": {
        "id": "A83y-6oozFvD"
      },
      "source": [
        "Import libraries"
      ]
    },
    {
      "cell_type": "code",
      "metadata": {
        "id": "S_YvsFvUzJjb"
      },
      "source": [
        "import pandas as pd\r\n",
        "import numpy as np\r\n",
        "from random import randint"
      ],
      "execution_count": 1,
      "outputs": []
    },
    {
      "cell_type": "markdown",
      "metadata": {
        "id": "vqI_R7AWzTe3"
      },
      "source": [
        "Assign variables"
      ]
    },
    {
      "cell_type": "code",
      "metadata": {
        "id": "rmuWrxPbzXfl"
      },
      "source": [
        "player1 = 0\r\n",
        "player2 = 0\r\n",
        "score1 = 0\r\n",
        "score2 = 0"
      ],
      "execution_count": 2,
      "outputs": []
    },
    {
      "cell_type": "markdown",
      "metadata": {
        "id": "J3w3w3Sz0NIO"
      },
      "source": [
        "While statenent"
      ]
    },
    {
      "cell_type": "code",
      "metadata": {
        "colab": {
          "base_uri": "https://localhost:8080/"
        },
        "id": "WwzWz8SP05Fj",
        "outputId": "1e89508f-5057-4b75-e079-7e73d678fcda"
      },
      "source": [
        "while (score1 < 5) and (score2 < 5):\r\n",
        "  player1 = input(\"Enter player1's number: \")\r\n",
        "  player2 = randint(0,9)\r\n",
        "  player1 = int(player1)\r\n",
        "  player2 = int(player2)\r\n",
        "  print(\"Player1's number is \", player1)\r\n",
        "  print(\"Player2's number is \", player2)\r\n",
        "  if player1 < (player2 - 1):\r\n",
        "    score1 = score1 + 1\r\n",
        "  if player1 == (player2 - 1):\r\n",
        "    score2 = score2 + 2\r\n",
        "  if player2 < (player1 - 1):\r\n",
        "    score2 = score2 + 1\r\n",
        "  if player2 == (player1 - 1):\r\n",
        "    score1 = score1 + 2\r\n",
        "  print(\"Score1 is \", score1)\r\n",
        "  print(\"Score2 is \", score2)\r\n",
        "print(\"Stop game\")\r\n",
        "if score1 > score2:\r\n",
        "  print(\"Contragulations player1, you are the winner!\")\r\n",
        "else:\r\n",
        "  print(\"Congratulations player2, you are the winner!\")\r\n",
        "\r\n",
        "\r\n",
        "\r\n",
        "\r\n",
        "\r\n"
      ],
      "execution_count": 3,
      "outputs": [
        {
          "output_type": "stream",
          "text": [
            "Enter player1's number: 9\n",
            "Player1's number is  9\n",
            "Player2's number is  5\n",
            "Score1 is  0\n",
            "Score2 is  1\n",
            "Enter player1's number: 8\n",
            "Player1's number is  8\n",
            "Player2's number is  8\n",
            "Score1 is  0\n",
            "Score2 is  1\n",
            "Enter player1's number: 7\n",
            "Player1's number is  7\n",
            "Player2's number is  3\n",
            "Score1 is  0\n",
            "Score2 is  2\n",
            "Enter player1's number: 6\n",
            "Player1's number is  6\n",
            "Player2's number is  2\n",
            "Score1 is  0\n",
            "Score2 is  3\n",
            "Enter player1's number: 5\n",
            "Player1's number is  5\n",
            "Player2's number is  9\n",
            "Score1 is  1\n",
            "Score2 is  3\n",
            "Enter player1's number: 4\n",
            "Player1's number is  4\n",
            "Player2's number is  9\n",
            "Score1 is  2\n",
            "Score2 is  3\n",
            "Enter player1's number: 3\n",
            "Player1's number is  3\n",
            "Player2's number is  1\n",
            "Score1 is  2\n",
            "Score2 is  4\n",
            "Enter player1's number: 2\n",
            "Player1's number is  2\n",
            "Player2's number is  7\n",
            "Score1 is  3\n",
            "Score2 is  4\n",
            "Enter player1's number: 1\n",
            "Player1's number is  1\n",
            "Player2's number is  6\n",
            "Score1 is  4\n",
            "Score2 is  4\n",
            "Enter player1's number: 2\n",
            "Player1's number is  2\n",
            "Player2's number is  3\n",
            "Score1 is  4\n",
            "Score2 is  6\n",
            "Stop game\n",
            "Congratulations player2, you are the winner!\n"
          ],
          "name": "stdout"
        }
      ]
    }
  ]
}