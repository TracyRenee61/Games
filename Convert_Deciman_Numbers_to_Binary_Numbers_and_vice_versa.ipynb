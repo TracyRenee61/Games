{
  "nbformat": 4,
  "nbformat_minor": 0,
  "metadata": {
    "colab": {
      "name": "Convert Deciman Numbers to Binary Numbers and vice versa.ipynb",
      "provenance": []
    },
    "kernelspec": {
      "name": "python3",
      "display_name": "Python 3"
    },
    "language_info": {
      "name": "python"
    }
  },
  "cells": [
    {
      "cell_type": "markdown",
      "metadata": {
        "id": "YRWbttnOSm4E"
      },
      "source": [
        "This program will convert the Decimal numbers we use today to binary numbers, which are used in computers\n",
        "\n",
        "website of how to convert in this link:-  https://indepth.dev/posts/1019/the-simple-math-behind-decimal-binary-conversion-algorithms"
      ]
    },
    {
      "cell_type": "markdown",
      "metadata": {
        "id": "WFvycMvNUOQa"
      },
      "source": [
        "Convert decimal number to binary number"
      ]
    },
    {
      "cell_type": "code",
      "metadata": {
        "colab": {
          "base_uri": "https://localhost:8080/"
        },
        "id": "CaEvHzfmpwFs",
        "outputId": "bb3cc18b-b87f-43eb-f954-db6fe51e65c4"
      },
      "source": [
        "#import libraries\n",
        "import pandas as pd\n",
        "import numpy as np\n",
        "\n",
        "#enter decimal and convert to integar\n",
        "decimal_num = input(\"Enter the decimal number you would like to convert to binary: \")\n",
        "decimal_num = int(decimal_num)\n",
        "#print(decimal_num)\n",
        "\n",
        "#define blank string\n",
        "binary_num = \" \"\n",
        "\n",
        "#define number to divide by\n",
        "divide_num = decimal_num\n",
        "\n",
        "#for loop to create number in a string format\n",
        "for i in range(decimal_num):\n",
        "  quotient = divide_num / 2\n",
        "  quotient = int(quotient)\n",
        "  #print(quotient)\n",
        "  remainder = divide_num - (quotient * 2)\n",
        "  #print(remainder)\n",
        "  binary_num = binary_num + str(remainder)\n",
        "  #print(binary_num)\n",
        "  divide_num = quotient\n",
        "  if quotient == 0: break\n",
        "\n",
        "#print(binary_num)\n",
        "\n",
        "#define number in reverse using a slice\n",
        "rev_num = binary_num[::-1]\n",
        "#print(rev_num)\n",
        "\n",
        "print(\"The decimal number \", decimal_num, \" is \", rev_num , \" in binary.\")\n",
        "\n"
      ],
      "execution_count": 7,
      "outputs": [
        {
          "output_type": "stream",
          "text": [
            "Enter the decimal number you would like to convert to binary: 200\n",
            "The decimal number  200  is  11001000   in binary.\n"
          ],
          "name": "stdout"
        }
      ]
    }
  ]
}