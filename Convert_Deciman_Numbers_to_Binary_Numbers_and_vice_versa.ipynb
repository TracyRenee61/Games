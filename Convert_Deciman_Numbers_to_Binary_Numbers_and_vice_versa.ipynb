{
  "nbformat": 4,
  "nbformat_minor": 0,
  "metadata": {
    "colab": {
      "name": "Convert Deciman Numbers to Binary Numbers and vice versa.ipynb",
      "provenance": []
    },
    "kernelspec": {
      "name": "python3",
      "display_name": "Python 3"
    },
    "language_info": {
      "name": "python"
    }
  },
  "cells": [
    {
      "cell_type": "markdown",
      "metadata": {
        "id": "YRWbttnOSm4E"
      },
      "source": [
        "This program will convert the Decimal numbers we use today to binary numbers, which are used in computers\n",
        "\n",
        "website of how to convert in this link:-  https://indepth.dev/posts/1019/the-simple-math-behind-decimal-binary-conversion-algorithms"
      ]
    },
    {
      "cell_type": "markdown",
      "metadata": {
        "id": "WFvycMvNUOQa"
      },
      "source": [
        "Convert decimal number to binary number"
      ]
    },
    {
      "cell_type": "code",
      "metadata": {
        "colab": {
          "base_uri": "https://localhost:8080/"
        },
        "id": "CaEvHzfmpwFs",
        "outputId": "bb3cc18b-b87f-43eb-f954-db6fe51e65c4"
      },
      "source": [
        "#import libraries\n",
        "import pandas as pd\n",
        "import numpy as np\n",
        "\n",
        "#enter decimal and convert to integar\n",
        "decimal_num = input(\"Enter the decimal number you would like to convert to binary: \")\n",
        "decimal_num = int(decimal_num)\n",
        "#print(decimal_num)\n",
        "\n",
        "#define blank string\n",
        "binary_num = \" \"\n",
        "\n",
        "#define number to divide by\n",
        "divide_num = decimal_num\n",
        "\n",
        "#for loop to create number in a string format\n",
        "for i in range(decimal_num):\n",
        "  quotient = divide_num / 2\n",
        "  quotient = int(quotient)\n",
        "  #print(quotient)\n",
        "  remainder = divide_num - (quotient * 2)\n",
        "  #print(remainder)\n",
        "  binary_num = binary_num + str(remainder)\n",
        "  #print(binary_num)\n",
        "  divide_num = quotient\n",
        "  if quotient == 0: break\n",
        "\n",
        "#print(binary_num)\n",
        "\n",
        "#define number in reverse using a slice\n",
        "rev_num = binary_num[::-1]\n",
        "#print(rev_num)\n",
        "\n",
        "print(\"The decimal number \", decimal_num, \" is \", rev_num , \" in binary.\")\n",
        "\n"
      ],
      "execution_count": null,
      "outputs": [
        {
          "output_type": "stream",
          "text": [
            "Enter the decimal number you would like to convert to binary: 200\n",
            "The decimal number  200  is  11001000   in binary.\n"
          ],
          "name": "stdout"
        }
      ]
    },
    {
      "cell_type": "markdown",
      "metadata": {
        "id": "92KpMDHj8cXF"
      },
      "source": [
        "Convert decimal fraction to binary fraction"
      ]
    },
    {
      "cell_type": "code",
      "metadata": {
        "colab": {
          "base_uri": "https://localhost:8080/"
        },
        "id": "ml8HIBLB8hf-",
        "outputId": "65f6f9a4-0f42-4bec-b168-ac991ebe2d64"
      },
      "source": [
        "import numpy as np\n",
        "import pandas as pd\n",
        "import math\n",
        "\n",
        "#enter decimal fraction and convert to integar\n",
        "decimal_frac = input(\"Enter the decimal fraction you would like to convert to binary: \")\n",
        "decimal_frac = float(decimal_frac)\n",
        "#print(decimal_frac)\n",
        "\n",
        "#define blank string\n",
        "binary_frac = \"0.\"\n",
        "\n",
        "#define number to multiply\n",
        "\n",
        "mult_num = decimal_frac\n",
        "\n",
        "for_range = 100\n",
        "\n",
        "#for loop to create number in a string format\n",
        "for i in range(for_range):\n",
        "  product = mult_num * 2\n",
        "  #print(product)\n",
        "  frac, whole = math.modf(product)\n",
        "  #print(frac)\n",
        "  #print(whole)\n",
        "  if product < 1:\n",
        "    binary_frac = binary_frac + \"0\"\n",
        "  if product >= 1:\n",
        "    binary_frac = binary_frac + \"1\"\n",
        "  #print(binary_frac)\n",
        "  mult_num = product\n",
        "  if frac == 0:\n",
        "    break\n",
        "\n",
        "#print(binary_frac)\n",
        "\n",
        "print(\"The decimal fraction \", decimal_frac, \" is \", binary_frac , \" in binary.\")\n"
      ],
      "execution_count": null,
      "outputs": [
        {
          "output_type": "stream",
          "text": [
            "Enter the decimal fraction you would like to convert to binary: .375\n",
            "The decimal fraction  0.375  is  0.011  in binary.\n"
          ],
          "name": "stdout"
        }
      ]
    },
    {
      "cell_type": "markdown",
      "metadata": {
        "id": "7QTuuzyhGiA3"
      },
      "source": [
        "Convert binary integar to decimal"
      ]
    },
    {
      "cell_type": "code",
      "metadata": {
        "id": "m1fupULpGk72",
        "colab": {
          "base_uri": "https://localhost:8080/"
        },
        "outputId": "8e282798-7866-4f2a-b752-96adfe8208a3"
      },
      "source": [
        "import numpy as np\n",
        "import pandas as pd\n",
        "\n",
        "#enter binary integer and \n",
        "bin_num = input(\"Enter the binary number you would like to convert to decimal: \")\n",
        "#print(bin_num)\n",
        "\n",
        "multiplier = 0\n",
        "\n",
        "for i in range(len(bin_num)):\n",
        "  answer = 2 * multiplier + int(bin_num[i])\n",
        "  #print(answer)\n",
        "  multiplier = answer\n",
        "\n",
        "print(\"The binary number \", bin_num, \" is \", answer , \" in decimal.\")\n"
      ],
      "execution_count": 6,
      "outputs": [
        {
          "output_type": "stream",
          "text": [
            "Enter the binary number you would like to convert to decimal: 11011\n",
            "The binary number  11011  is  27  in decimal.\n"
          ],
          "name": "stdout"
        }
      ]
    }
  ]
}